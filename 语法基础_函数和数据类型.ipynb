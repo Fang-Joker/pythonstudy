{
 "cells": [
  {
   "cell_type": "markdown",
   "metadata": {},
   "source": [
    "##你好，这个笔记很好用"
   ]
  },
  {
   "cell_type": "code",
   "execution_count": 1,
   "metadata": {},
   "outputs": [
    {
     "name": "stdout",
     "output_type": "stream",
     "text": [
      "hello world\n"
     ]
    }
   ],
   "source": [
    "print('hello world')"
   ]
  },
  {
   "cell_type": "markdown",
   "metadata": {},
   "source": [
    "##python语法的参考资料：headfirst python->小甲鱼->习题->腾讯习题公开课\n",
    "参数详解：参考资料：http://www.cnblogs.com/bingabcd/p/6671368.html"
   ]
  },
  {
   "cell_type": "markdown",
   "metadata": {},
   "source": [
    "# 函数的收集参数\n",
    "- 除了普通参数，默认参数和关键字参数外，还可以放手机参数，未被定义，以元组的格式存放\n",
    "- def func( *args)  可以放置一堆额外的参数\n",
    "- 收集参数的关键字参数，也可以用字典的形式作为参数（即关键字参数形式，A=b或直接放字典元素）  \n",
    "  格式：def func( **kwargs)  调用时显式放多余关键字元素或直接放数组\n",
    "    func(p1=a, p2=b....)   func(dic)\n",
    "### 收集参数混合调用的顺序问题\n",
    "- 收集参数，关键字参数，普通参数时可以混合使用的\n",
    "- 使用规则，普通参数和关键字参数优先处理，多余的被放入收集参数\n",
    "- 定义时一般按普通参数，关键字参数，收集参数(tuple),和收集参数(dict)的顺序"
   ]
  },
  {
   "cell_type": "code",
   "execution_count": 11,
   "metadata": {
    "collapsed": true
   },
   "outputs": [
    {
     "name": "stdout",
     "output_type": "stream",
     "text": [
      "hl\n",
      "I am {0},{1}\n",
      "I do not\n",
      "********************\n",
      "xxxxxxxxxxxxxxxxxxxxxxxxxxxxxx\n",
      "hl\n",
      "I am {0},{1}\n",
      "我的爱好是run\n",
      "********************\n",
      "asd\n",
      "kakak\n",
      "xxxxxxxxxxxxxxxxxxxxxxxxxxxxxx\n",
      "a --- ko\n",
      "b --- 6\n"
     ]
    }
   ],
   "source": [
    "# 收集参数混合调用案例\n",
    "# stu模板的自我介绍\n",
    "def stu(name, age, *args, hobby=\"no\", **kwargs):\n",
    "    print(\"hl\")\n",
    "    print(\"I am {0},{1}\")\n",
    "    if hobby == \"no\":\n",
    "        print(\"I do not\")\n",
    "    else:\n",
    "        print(\"我的爱好是{}\".format(hobby))\n",
    "    print(\"*\" * 20)\n",
    "    for i in args:\n",
    "        print(i)\n",
    "    print(\"x\" * 30)\n",
    "    for k,v in kwargs.items():\n",
    "        print(k,\"---\",v)\n",
    "\n",
    "# 开始调用函数\n",
    "name = \"lisan\"\n",
    "age = 19\n",
    "\n",
    "stu(name,age)\n",
    "\n",
    "# 调用不同的格式\n",
    "stu(name, age, \"asd\", \"kakak\", hobby=\"run\", a=\"ko\", b=6)"
   ]
  },
  {
   "cell_type": "markdown",
   "metadata": {},
   "source": [
    "### 收集参数的解包问题\n",
    "- 把参数放入list或dict中，直接把list/dict中的值放进收集参数中\n",
    "- 语法：案例"
   ]
  },
  {
   "cell_type": "code",
   "execution_count": 17,
   "metadata": {},
   "outputs": [
    {
     "name": "stdout",
     "output_type": "stream",
     "text": [
      "---\n",
      "<class 'tuple'>\n",
      "lili\n",
      "sdhus\n",
      "16\n",
      "200\n",
      "---\n",
      "<class 'tuple'>\n",
      "['asd', 4]\n",
      "---\n",
      "<class 'tuple'>\n",
      "asd\n",
      "4\n"
     ]
    }
   ],
   "source": [
    "# 收集参数的解包问题\n",
    "\n",
    "def stu(*args):\n",
    "    print(\"---\")\n",
    "    print(type(args))\n",
    "    for i in args:\n",
    "        print(i)\n",
    "        \n",
    "stu(\"lili\", \"sdhus\", 16, 200)\n",
    "\n",
    "l = list()\n",
    "l.append(\"asd\")\n",
    "l.append(4)\n",
    "\n",
    "stu(l)\n",
    "# 此时，args的表示形式时字典内的一个list类型的元素，即args= ([\"asd\", 4],)\n",
    "# 很显然没法直接当成可迭代的list\n",
    "# 此时，需要解包参数，即在调用时在参数前加*\n",
    "stu(*l)\n",
    "# 对dict解包类似，两个**即可"
   ]
  },
  {
   "cell_type": "markdown",
   "metadata": {},
   "source": [
    "# 函数文档\n",
    "- 函数的文档的作用是对当前函数提供使用相关的参考信息，用以说明\n",
    "- 文档的写法：\n",
    "    - 在函数内部开始的第一行使用三单引号定义符(定义多行)\n",
    "    - 一般具有特定格式\n",
    "    - 参考案例\n",
    "- 文档查看\n",
    "    - 使用help函数\n",
    "    - 使用doc，func.__doc__"
   ]
  },
  {
   "cell_type": "code",
   "execution_count": 22,
   "metadata": {},
   "outputs": [],
   "source": [
    "# 文档案例\n",
    "# 函数stu模拟一个学生的自我介绍\n",
    "def stu(name, age, *args):\n",
    "    '''\n",
    "    这是文档\n",
    "    '''\n",
    "    pass"
   ]
  },
  {
   "cell_type": "code",
   "execution_count": 23,
   "metadata": {},
   "outputs": [
    {
     "name": "stdout",
     "output_type": "stream",
     "text": [
      "Help on function stu in module __main__:\n",
      "\n",
      "stu(name, age, *args)\n",
      "    这是文档\n",
      "\n"
     ]
    },
    {
     "data": {
      "text/plain": [
       "'\\n    这是文档\\n    '"
      ]
     },
     "execution_count": 23,
     "metadata": {},
     "output_type": "execute_result"
    }
   ],
   "source": [
    "# 查看函数文档\n",
    "help(stu)\n",
    "stu.__doc__"
   ]
  },
  {
   "cell_type": "code",
   "execution_count": 25,
   "metadata": {},
   "outputs": [
    {
     "name": "stdout",
     "output_type": "stream",
     "text": [
      "Help on function stu in module __main__:\n",
      "\n",
      "stu(name, age)\n",
      "    这是文档的文字内容\n",
      "    :param name: means name of stu\n",
      "    :param age: means age of stu\n",
      "    :return: none\n",
      "\n",
      "None\n",
      "--------------------\n",
      "\n",
      "    这是文档的文字内容\n",
      "    :param name: means name of stu\n",
      "    :param age: means age of stu\n",
      "    :return: none\n",
      "    \n"
     ]
    }
   ],
   "source": [
    "# 标准格式的说明文档\n",
    "def stu(name, age):\n",
    "    '''\n",
    "    这是文档的文字内容\n",
    "    :param name: means name of stu\n",
    "    :param age: means age of stu\n",
    "    :return: none\n",
    "    '''\n",
    "    pass\n",
    "\n",
    "print(help(stu))\n",
    "print(\"-\" * 20)\n",
    "print(stu.__doc__)"
   ]
  },
  {
   "cell_type": "markdown",
   "metadata": {},
   "source": [
    "# 变量的作用域\n",
    "    - 可以使用global和local对变量的定义域进行规定\n",
    "    - 可以使用globals和locals显式所有全局和局部变量"
   ]
  },
  {
   "cell_type": "markdown",
   "metadata": {},
   "source": [
    "# eval()函数\n",
    "- 把其参数字符串中的内容当作一个表达式执行，返回表达式执行后的结果\n",
    "- 语法：\n",
    "        eval(string_code, globals=None, locals=None)\n",
    "        \n",
    "# exec()函数\n",
    "- 把字符串当代码执行但是不返回结果，和上面类似"
   ]
  },
  {
   "cell_type": "code",
   "execution_count": 28,
   "metadata": {},
   "outputs": [
    {
     "name": "stdout",
     "output_type": "stream",
     "text": [
      "x+y: 300\n",
      "300\n",
      "300\n",
      "None\n"
     ]
    }
   ],
   "source": [
    "x = 100\n",
    "y = 200\n",
    "# 执行x+y\n",
    "# z = x + y\n",
    "z1 = x + y\n",
    "z2 = eval(\"x+y\")\n",
    "z3 = exec(\"x+y\")\n",
    "z4 = exec(\"print('x+y:',x+y)\")\n",
    "print(z1)\n",
    "print(z2)\n",
    "print(z3)"
   ]
  },
  {
   "cell_type": "markdown",
   "metadata": {},
   "source": [
    "# 递归函数\n",
    "- 个人比较熟悉了\n",
    "- python中有限制，不能太多层，会被终止，要注意结束条件"
   ]
  },
  {
   "cell_type": "markdown",
   "metadata": {},
   "source": [
    "# 内置数据结构（变量类型）\n",
    "- list\n",
    "- set\n",
    "- dict\n",
    "- tuple\n",
    "## list（列表）\n",
    "- 一组有顺序数据的组合\n",
    "- 创建列表\n",
    "    - 空列表 [ ] 或装入元素\n",
    "    - 使用list()\n",
    "- 常用操作\n",
    "    - 访问：直接索引k[]\n",
    "    - 分片 k[:]左开右闭，不写位相应位置的端点值，反向顺序最后一个为-1，往左则减小(同样遵循左开右闭)  [::]第三个数位增长幅度，1为每次增长一个，2为两个\n",
    "    - 可以超出范围，超出部分不管\n",
    "    \n"
   ]
  },
  {
   "cell_type": "code",
   "execution_count": 33,
   "metadata": {},
   "outputs": [
    {
     "name": "stdout",
     "output_type": "stream",
     "text": [
      "[2, 4, 6, 8, 10]\n",
      "[6, 7, 8, 9, 10]\n",
      "[5, 6, 7, 8, 9]\n"
     ]
    }
   ],
   "source": [
    "# 切片和间隔以及超出\n",
    "a = [1,2,3,4,5,6,7,8,9,10]\n",
    "print(a[1:11:2])\n",
    "print(a[5:20])\n",
    "\n",
    "# 负数的索引反向从-1开始\n",
    "print(a[4:-1])"
   ]
  },
  {
   "cell_type": "markdown",
   "metadata": {},
   "source": [
    "# 分片操作生成一个新的list\n",
    "     内置函数id，负责显式一个变量或者数据的唯一编号\n",
    "     列表变量的指向是一致的，类似于对象\n",
    "     -删除del\n",
    "     -相加，直接+"
   ]
  },
  {
   "cell_type": "code",
   "execution_count": 37,
   "metadata": {},
   "outputs": [
    {
     "name": "stdout",
     "output_type": "stream",
     "text": [
      "140715386993504\n",
      "140715386996704\n",
      "140715386993504\n",
      "300\n",
      "100\n",
      "2176932384240\n",
      "140715386993504\n"
     ]
    }
   ],
   "source": [
    "# id的实例\n",
    "a = 100\n",
    "b = 200\n",
    "c = a\n",
    "print(id(a))\n",
    "print(id(b))\n",
    "print(id(c))\n",
    "a = 300\n",
    "print(a)\n",
    "print(c)\n",
    "print(id(a))\n",
    "print(id(c))"
   ]
  },
  {
   "cell_type": "code",
   "execution_count": 38,
   "metadata": {},
   "outputs": [
    {
     "name": "stdout",
     "output_type": "stream",
     "text": [
      "1 --- 2\n",
      "3 --- 4\n"
     ]
    }
   ],
   "source": [
    "# 双层嵌套的for循环\n",
    "a = [[1,2],[3,4]]\n",
    "for i,j in a:\n",
    "    print(i,\"---\",j)"
   ]
  },
  {
   "cell_type": "code",
   "execution_count": 43,
   "metadata": {},
   "outputs": [
    {
     "name": "stdout",
     "output_type": "stream",
     "text": [
      "[0, 1, 2, 3, 4, 5, 6, 7, 8, 9, 10, 11, 12, 13, 14, 15, 16, 17, 18, 19, 20, 21, 22, 23, 24, 25, 26, 27, 28, 29]\n",
      "[0, 2, 4, 6, 8, 10, 12, 14, 16, 18, 20, 22, 24, 26, 28]\n",
      "[11, 21, 31, 12, 22, 32, 13, 23, 33]\n"
     ]
    }
   ],
   "source": [
    "# 列表内涵，列表生成式\n",
    "a = [a for a in range(30)]\n",
    "b = [i for i in a if i % 2 == 0 ]\n",
    "print(a)\n",
    "print(b)\n",
    "# 也可以进行嵌套循环\n",
    "a = [1,2,3]\n",
    "b = [10,20,30]\n",
    "c = [m+n for m in a for n in b]\n",
    "print(c)"
   ]
  },
  {
   "cell_type": "markdown",
   "metadata": {},
   "source": [
    "## 列表常用函数（这些都不会改变id，即是在原列表上一直操作）\n",
    "- len，max，min\n",
    "- append：末尾追加\n",
    "- insert(index,data)：某一个位置插入数据\n",
    "- pop：拿出最后一个数据\n",
    "- remove(data):删除指定值\n",
    "- clear：清除（还有清除内存的作用），直接赋值为空知识新开了空间\n",
    "- reverse： 翻转\n",
    "- extend（data）：将打他拼接到最后面 \n",
    "- count：查找列表中指定元素的个数\n",
    "- copy：拷贝，浅拷贝，拷贝出一个新id变量，只拷贝最外面一层，如果内部有传址的变量时并没有拷贝出新的\n",
    "### 传值和传址\n",
    "   - 在python中，对于简单变量（基本数据类型）是传值的，对于复杂变量是传址的\n",
    "   \n",
    "# 元组(tuple)\n",
    "## 相当于不可修改的列表\n",
    "- 用()创建，不可修改指的时内部数据不可修改\n",
    "- len,max,min.count,index\n",
    "-两个元组交换: a,b = b,a\n",
    "# 集合-set\n",
    "- 数据无序，唯一\n",
    "- 定义 a = set()  或者大括号里有值，没值就是字典\n",
    "- 排除重复数据，内部只能是可哈希（可以映射）数据，集合本身不可哈希\n",
    "- in, not in\n",
    "- 可迭代操作和以上类似\n",
    "- 内涵用法和前面是一致的\n",
    "- 集合函数，和其他的基本一致 add：加元素  没有append（因为这是往最后的位置追加，而set没有顺序）  clear  copy  remove（删除不存在元素报错）  discard（删除不存在元素不报错）  pop：移除一个元素  intersection：交集  different：差集  union：并集  issubset：是否为子集  issuperset：是否为超集\n",
    "## frozen set：冰冻集合\n",
    "- 不可修改的集合\n",
    "- 创建：frozenset（）\n",
    "# 字典dict\n",
    "- 无序，有键值对\n",
    "- 创建 {} dict（关键字参数）\n",
    "- 有序数据类型，但是无索引\n",
    "- 有键值对，kv，\n",
    "    - k必须是可哈希的，list，set，dict都不行\n",
    "    - v任何值\n",
    "-其函数：.keys()    .values()  .items()键值对\n",
    "## 常见操作\n",
    "- 用中括号访问（输入键）或赋值\n",
    "- 删除 del  get根据键返回值，好处是可以设置默认参数（以解决访问非法字符的报错问题）\n",
    "- 成员检测的时候检测的是键\n",
    "- 其余大部分操作和上面是比较类似的"
   ]
  },
  {
   "cell_type": "code",
   "execution_count": 6,
   "metadata": {},
   "outputs": [
    {
     "name": "stdout",
     "output_type": "stream",
     "text": [
      "{'two': 2}\n",
      "1\n",
      "1\n",
      "100\n",
      "{'a': 'asd', 'b': 'asd'}\n"
     ]
    }
   ],
   "source": [
    "# 字典生成式，方便使用过滤条件\n",
    "d = {\"one\":1, \"two\":2, \"three\":3}\n",
    "a = {k:v for k,v in d.items() if v == 2}\n",
    "print(a)\n",
    "\n",
    "# get的实例，找不到可以返回默认值，默认值设置在第二个参数位置\n",
    "a = d[\"one\"]\n",
    "print(a)\n",
    "a = d.get(\"one\", 100)\n",
    "print(a)\n",
    "a = d.get(\"asdasd\",100)\n",
    "print(a)\n",
    "\n",
    "# fromkeys: 使用指定序列作为键，赋予同一个值\n",
    "d = [\"a\", \"b\"]\n",
    "d = dict.fromkeys(d, \"asd\")\n",
    "print(d)"
   ]
  }
 ],
 "metadata": {
  "kernelspec": {
   "display_name": "Python 3",
   "language": "python",
   "name": "python3"
  },
  "language_info": {
   "codemirror_mode": {
    "name": "ipython",
    "version": 3
   },
   "file_extension": ".py",
   "mimetype": "text/x-python",
   "name": "python",
   "nbconvert_exporter": "python",
   "pygments_lexer": "ipython3",
   "version": "3.7.0"
  }
 },
 "nbformat": 4,
 "nbformat_minor": 2
}
