{
 "cells": [
  {
   "cell_type": "markdown",
   "metadata": {},
   "source": [
    "# RE大致使用步骤\n",
    "- 1.使用compile将表示正则的字符串编译为一个pattern对象\n",
    "- 2.通过pattern对象提供的一系列方法对文本进行查找匹配，获取匹配结果一个Match对象\n",
    "- 3.最后使用Match对象提供的属性和方法获得信息，根据需要进行操作\n",
    "# RE常用函数\n",
    "- group()：获得一个或多个分组匹配的字符串，当要获得整个匹配的子串时，直接使用group或者group(0)\n",
    "- start：获取分组匹配的子串在整个字符串中的起始位置，参数默认为0\n",
    "- end：获取分组的子串在整个字符串中的结束位置，默认为0\n",
    "- span：返回的结构技术（start(group）,end(group))"
   ]
  },
  {
   "cell_type": "code",
   "execution_count": 31,
   "metadata": {},
   "outputs": [
    {
     "name": "stdout",
     "output_type": "stream",
     "text": [
      "<re.Match object; span=(0, 2), match='5a'>\n"
     ]
    }
   ],
   "source": [
    "# 导入相关包\n",
    "import re\n",
    "\n",
    "# 查找数字\n",
    "# r表示字符串不专义\n",
    "p = re.compile(r'\\d+\\w') # 将要编译的字符串转化为pattern对象\n",
    "\n",
    "# 在字符串中匹配符合p的部分\n",
    "m = p.match('5a5asjdhsiah')\n",
    "\n",
    "print(m)"
   ]
  },
  {
   "cell_type": "code",
   "execution_count": 35,
   "metadata": {},
   "outputs": [
    {
     "name": "stdout",
     "output_type": "stream",
     "text": [
      "23\n",
      "3\n",
      "5\n"
     ]
    }
   ],
   "source": [
    "# 导入相关包\n",
    "import re\n",
    "\n",
    "# 查找数字\n",
    "# r表示字符串不专义\n",
    "p = re.compile(r'\\d+') # 将要编译的字符串转化为pattern对象\n",
    "\n",
    "# 在字符串中匹配符合p的部分\n",
    "m = p.match(\"ak123dkjabushdaksk987kahsdhasd\", 3, 6) # 索引3-6间\n",
    "\n",
    "# 只显示指定范围内第一个匹配的内容，找到一个就不找了，findall就是全找\n",
    "print(m[0])\n",
    "print(m.start(0))\n",
    "print(m.end(0))"
   ]
  },
  {
   "cell_type": "code",
   "execution_count": 11,
   "metadata": {},
   "outputs": [
    {
     "name": "stdout",
     "output_type": "stream",
     "text": [
      "['10-628888']\n"
     ]
    }
   ],
   "source": [
    "p = re.compile(r'\\d{2}-\\d{6}')\n",
    "print(p.findall('010-628888'))"
   ]
  },
  {
   "cell_type": "code",
   "execution_count": 48,
   "metadata": {},
   "outputs": [
    {
     "name": "stdout",
     "output_type": "stream",
     "text": [
      "<re.Match object; span=(0, 14), match='nissiddi siias'>\n",
      "nissiddi siias\n",
      "('nissiddi', 'siias')\n"
     ]
    }
   ],
   "source": [
    "import re\n",
    "\n",
    "# re.l表示忽略大小写, 这里不知道为什么显示没有这个属性\n",
    "p = re.compile(r'([a-z]+) ([a-z]+)')\n",
    "\n",
    "m = p.match(\"nissiddi siias ishsh\")\n",
    "\n",
    "print(m)\n",
    "print(m.group(0))\n",
    "print(m.groups())\n"
   ]
  },
  {
   "cell_type": "markdown",
   "metadata": {},
   "source": [
    "# 查找\n",
    "- search(str, [, pos[, endpos]]): 在字符串内查找，可以给定起始和结束位置\n",
    "- findall：查找所有\n",
    "- finditer：查找并返回一个iter结果"
   ]
  },
  {
   "cell_type": "code",
   "execution_count": 54,
   "metadata": {},
   "outputs": [
    {
     "name": "stdout",
     "output_type": "stream",
     "text": [
      "6253\n"
     ]
    }
   ],
   "source": [
    "import re\n",
    "\n",
    "p = re.compile(r'\\d+')\n",
    "\n",
    "m = p.search(\"akshdj6253kash876asjkd\")\n",
    "\n",
    "print(m.group())"
   ]
  },
  {
   "cell_type": "code",
   "execution_count": 56,
   "metadata": {},
   "outputs": [
    {
     "name": "stdout",
     "output_type": "stream",
     "text": [
      "<class 'list'>\n",
      "['6253', '876']\n"
     ]
    }
   ],
   "source": [
    "rst = p.findall(\"akshdj6253kash876asjkd\")\n",
    "print(type(rst))\n",
    "print(rst)"
   ]
  },
  {
   "cell_type": "markdown",
   "metadata": {},
   "source": [
    "# sub替换\n",
    "- sub(rep1, str[,count])"
   ]
  },
  {
   "cell_type": "code",
   "execution_count": 60,
   "metadata": {},
   "outputs": [
    {
     "name": "stdout",
     "output_type": "stream",
     "text": [
      "Hello world huh akushi iasydus iiasua sd\n"
     ]
    }
   ],
   "source": [
    "# sub替换的案例\n",
    "import re\n",
    "\n",
    "p = re.compile(r'(\\w+) (\\d+)')\n",
    "\n",
    "s = \"kie 1232 huh akushi iasydus iiasua sd\"\n",
    "\n",
    "rst = p.sub(r\"Hello world\", s)\n",
    "print(rst)"
   ]
  },
  {
   "cell_type": "markdown",
   "metadata": {},
   "source": [
    "# 匹配中文\n",
    "- 大部分中文表示范围是[u4e00-u9fa5],不包括全角标点"
   ]
  },
  {
   "cell_type": "code",
   "execution_count": 63,
   "metadata": {},
   "outputs": [
    {
     "name": "stdout",
     "output_type": "stream",
     "text": [
      "['世', '界', '你', '好']\n"
     ]
    }
   ],
   "source": [
    "import re\n",
    "\n",
    "title = u\"世界你好， hello\" # 这里前面的u指unicode编码，方便后面中文查找，查的是\n",
    "# 中文编码的范围\n",
    "\n",
    "p = re.compile(r'[\\u4e00-\\u9fa5]') # 这个一般表示查找中文\n",
    "rst = p.findall(title)\n",
    "\n",
    "print(rst)"
   ]
  },
  {
   "cell_type": "markdown",
   "metadata": {},
   "source": [
    "# 贪婪(*)和非贪婪(?)\n",
    "- 尽可能多的匹配和只匹配一次\n",
    "- 正则里默认使用贪婪匹配"
   ]
  },
  {
   "cell_type": "code",
   "execution_count": 65,
   "metadata": {},
   "outputs": [
    {
     "name": "stdout",
     "output_type": "stream",
     "text": [
      "<div>name</div><div>age</div>\n",
      "<div>name</div>\n"
     ]
    }
   ],
   "source": [
    "import re\n",
    "\n",
    "title = u'<div>name</div><div>age</div>'\n",
    "\n",
    "p1 = re.compile(r\"<div>.*</div>\") # 默认是贪婪全找\n",
    "p2 = re.compile(r\"<div>.*?</div>\") # ?表示非贪婪，爬虫一般采取非贪婪\n",
    "\n",
    "m1 = p1.search(title)\n",
    "print(m1.group())\n",
    "\n",
    "m2 = p2.search(title)\n",
    "print(m2.group())\n"
   ]
  }
 ],
 "metadata": {
  "kernelspec": {
   "display_name": "Python 3",
   "language": "python",
   "name": "python3"
  },
  "language_info": {
   "codemirror_mode": {
    "name": "ipython",
    "version": 3
   },
   "file_extension": ".py",
   "mimetype": "text/x-python",
   "name": "python",
   "nbconvert_exporter": "python",
   "pygments_lexer": "ipython3",
   "version": "3.7.0"
  }
 },
 "nbformat": 4,
 "nbformat_minor": 2
}
