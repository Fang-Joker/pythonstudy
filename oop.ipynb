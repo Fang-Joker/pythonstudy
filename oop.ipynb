{
 "cells": [
  {
   "cell_type": "markdown",
   "metadata": {},
   "source": [
    "# OOP－Python面向对象\n",
    "-　Python的面向对象\n",
    "    - 基础\n",
    "    - 公有私有\n",
    "    - 继承\n",
    "    - 组合，Minxi\n",
    "- 魔法函数\n",
    "    - 魔法函数概述\n",
    "    - 构造类魔法函数\n",
    "    - 运算类魔法函数\n",
    "\n",
    "# 1.面向对象编程：ObjectOriented oo\n",
    "- OOP思想\n",
    "    - 将世界抽象成由事物组成，其具有动作和属性\n",
    "    - OO:面向对象\n",
    "    - OOA:面向对象的分析\n",
    "    - OOD:面向对象的设计\n",
    "    - OOI:XXX的实现\n",
    "    - OOP:XXX的编程\n",
    "    - OOA>OOD>OOI:面向对象的实现过程\n",
    "- 类和对象的概念\n",
    "    - 类：抽象名词，代表的是一个集合，共性的事物\n",
    "    - 对象：具体的事物，单个个体，类的一个实例\n",
    "    - 两者关系\n",
    "        - 一个是一大类事物，一个是其中的一个具体个体\n",
    "    - 类应该由两个内容：属性（特征）和动作（成员方法即函数）\n",
    "    \n",
    "# 2.类的基本实现\n",
    "- 类的命名\n",
    "    - 遵守变量命名的规范\n",
    "    - 大驼峰（由一个或者多个单词构成，每个单词首字母大写，单词跟单词直接相连）\n",
    "    - 尽量避开跟系统命名相似的命名\n",
    "- 你如何声明一个类\n",
    "    - 必须用class关键字\n",
    "    - 类由属性和方法构成，其他不允许出现\n",
    "    - 成员属性定义可以直接使用变量赋值，如果没有值，可以使用None\n",
    "- 案例："
   ]
  },
  {
   "cell_type": "code",
   "execution_count": 5,
   "metadata": {},
   "outputs": [
    {
     "name": "stdout",
     "output_type": "stream",
     "text": [
      "None\n",
      "do homework\n"
     ]
    }
   ],
   "source": [
    "# 定义一个学生类\n",
    "class Student():\n",
    "    pass\n",
    "# 定义一个对象\n",
    "mingyue = Student()\n",
    "\n",
    "# 给类定义属性和方法\n",
    "class PythonStudent():\n",
    "    name = None\n",
    "    age = 18\n",
    "    course = \"Python\"\n",
    "    \n",
    "    # 方法默认由self参数，要加上\n",
    "    def doHomework(self):\n",
    "        print(\"do homework\")\n",
    "        \n",
    "        # 推荐在函数末尾进行返回return\n",
    "        return None\n",
    "# 实例化\n",
    "a = PythonStudent() \n",
    "# 属性直接用.attr,方法直接用.way()\n",
    "print(a.name)\n",
    "a.doHomework()"
   ]
  },
  {
   "cell_type": "markdown",
   "metadata": {},
   "source": [
    "- 实例化类\n",
    "    变量 = 类名（）\n",
    "- 访问对象：点操作符\n",
    "- 可通过默认内置变量检查类和对象的所有成员\n",
    "- 对象所有成员检查\n",
    "  dict前后各有两个下划线\n",
    "  obj.__dict__ \n",
    "- 类所有的成员\n",
    "    - dict前后各有两个下划线\n",
    " class_name.__dict__\n",
    "    "
   ]
  },
  {
   "cell_type": "code",
   "execution_count": 3,
   "metadata": {},
   "outputs": [
    {
     "data": {
      "text/plain": [
       "{}"
      ]
     },
     "execution_count": 3,
     "metadata": {},
     "output_type": "execute_result"
    }
   ],
   "source": [
    "# 表示\n",
    "class Student():\n",
    "    name = \"alex\"\n",
    "    age =15\n",
    "    \n",
    "Student.__dict__\n",
    "# 实例化\n",
    "y = Student()\n",
    "y.__dict__"
   ]
  },
  {
   "cell_type": "markdown",
   "metadata": {},
   "source": [
    "# 3.anaconda基本使用\n",
    "- anaconda主要是一个虚拟环境管理器\n",
    "- 还是一个安装包管理器\n",
    "- conda list： 显示anaconda安装的包\n",
    "- conda env list:显示anaconda的虚拟环境列表\n",
    "- conda create -n xxx python=3.6: 创建python版本为3.6的虚拟环境，名称为xxx\n",
    "- xxx也就是虚拟环境的名称，也可以当做使用该虚拟环境的项目"
   ]
  },
  {
   "cell_type": "markdown",
   "metadata": {},
   "source": [
    "# 4.类和对象的成员分析\n",
    "- 类和对象都可以存储成员，成员可以归类所有，也可以归对象所有\n",
    "- 类存储成员时使用的是与类关联的一个对象\n",
    "- 独享存储成员是是存储在当前对象中\n",
    "- 对象访问一个成员时，如果对象中没有该成员，尝试访问类中的同名成员， 如果对象中有此成员，一定使用对象中的成员\n",
    "- 创建对象的时候，类中的成员不会放入对象当中，而是得到一个空对象，没有成员\n",
    "- 通过对象对类中成员重新赋值或者通过对象添加成员时，对应成员会保存在对象中，而不会修改类成员"
   ]
  },
  {
   "cell_type": "code",
   "execution_count": 7,
   "metadata": {},
   "outputs": [
    {
     "name": "stdout",
     "output_type": "stream",
     "text": [
      "da\n",
      "18\n",
      "********************\n",
      "139852701838616\n",
      "94417832873728\n",
      "********************\n",
      "da\n",
      "18\n",
      "139852701838616\n",
      "94417832873728\n",
      "139852675124840\n",
      "94417832876352\n",
      "{'name': 'll', 'age': 100}\n"
     ]
    }
   ],
   "source": [
    "# 访问对象成员的实例\n",
    "class A():\n",
    "    name = \"da\"\n",
    "    age = 18\n",
    "    \n",
    "    def say(self):\n",
    "        self.name = \"asd\"\n",
    "        self.age =200\n",
    "\n",
    "# 类的实例的调用\n",
    "print(A.name)\n",
    "print(A.age)\n",
    "\n",
    "print(\"*\" *20)\n",
    "\n",
    "# 判断变量是否一样\n",
    "print(id(A.name))\n",
    "print(id(A.age))\n",
    "\n",
    "print(\"*\"*20)\n",
    "a = A()\n",
    "\n",
    "# 其实是指向类实例的位置\n",
    "print(a.name)\n",
    "print(a.age)\n",
    "print(id(a.name))\n",
    "print(id(a.age))\n",
    "\n",
    "#此案例说明，不对对象赋值的情况下，对象的属性是指向类实例的同一个变量\n",
    "# 当改变时，进行赋值时,新属性则在额外开辟的空间\n",
    "a.name = \"ll\"\n",
    "a.age = 100\n",
    "print(id(a.name))\n",
    "print(id(a.age))\n",
    "print(a.__dict__)"
   ]
  },
  {
   "cell_type": "markdown",
   "metadata": {},
   "source": [
    "# 5.关于self\n",
    "- 其实可以理解成java中的this\n",
    "- self在对象的方法中表示当前对象本身，如果通过对象调用一个方法，那么该对象会自动传入到当前方法 的第一个参数中\n",
    "- self并不是关键字，只是一个用于接受对象的普通参数，理论上可以用任何一个普通变量名代替\n",
    "- 方法中有self形参的方法成为非绑定类的方法，可以通过对象访问， 没有self的是绑定类的方法， 只能通过类访问\n",
    "- 使用类访问绑定类的方法时， 如果类方法中需要访问当前类的成员，可以通过 __class__成员名来访问"
   ]
  },
  {
   "cell_type": "code",
   "execution_count": 10,
   "metadata": {},
   "outputs": [
    {
     "name": "stdout",
     "output_type": "stream",
     "text": [
      "My name is asd\n",
      "My age is 200\n"
     ]
    }
   ],
   "source": [
    "class Student():\n",
    "    name = \"da\"\n",
    "    age = 18\n",
    "    \n",
    "    # 第一个参数默认传入，对象本身,self并非关键字，只是约定俗成的使用，可以修改的\n",
    "    def say(self):\n",
    "        self.name = \"asd\"\n",
    "        self.age =200\n",
    "        print(\"My name is {0}\".format(self.name))\n",
    "        print(\"My age is {0}\".format(self.age))\n",
    "        \n",
    "yy = Student()\n",
    "yy.say()"
   ]
  },
  {
   "cell_type": "code",
   "execution_count": 16,
   "metadata": {},
   "outputs": [
    {
     "name": "stdout",
     "output_type": "stream",
     "text": [
      "yyy\n",
      "da\n",
      "dada\n"
     ]
    },
    {
     "ename": "TypeError",
     "evalue": "sayclass() takes 0 positional arguments but 1 was given",
     "output_type": "error",
     "traceback": [
      "\u001b[0;31m---------------------------------------------------------------------------\u001b[0m",
      "\u001b[0;31mTypeError\u001b[0m                                 Traceback (most recent call last)",
      "\u001b[0;32m<ipython-input-16-a40eaf690027>\u001b[0m in \u001b[0;36m<module>\u001b[0;34m()\u001b[0m\n\u001b[1;32m     20\u001b[0m \u001b[0mTeacher\u001b[0m\u001b[0;34m.\u001b[0m\u001b[0msayclass\u001b[0m\u001b[0;34m(\u001b[0m\u001b[0;34m)\u001b[0m\u001b[0;34m\u001b[0m\u001b[0m\n\u001b[1;32m     21\u001b[0m \u001b[0;31m# 否则报错\u001b[0m\u001b[0;34m\u001b[0m\u001b[0;34m\u001b[0m\u001b[0m\n\u001b[0;32m---> 22\u001b[0;31m \u001b[0mt\u001b[0m\u001b[0;34m.\u001b[0m\u001b[0msayclass\u001b[0m\u001b[0;34m(\u001b[0m\u001b[0;34m)\u001b[0m\u001b[0;34m\u001b[0m\u001b[0m\n\u001b[0m",
      "\u001b[0;31mTypeError\u001b[0m: sayclass() takes 0 positional arguments but 1 was given"
     ]
    }
   ],
   "source": [
    "# 绑定类与非绑定类的方法\n",
    "class Teacher():\n",
    "    name =\"da\"\n",
    "    age = \"12\"\n",
    "    \n",
    "    # 未绑定类的方法，给对象用的\n",
    "    def say(self):\n",
    "        self.name = \"yyy\"\n",
    "        print(self.name)\n",
    "    \n",
    "    # 绑定类的方法，对象不能使用  因为使用实例调用方法时会将自身作为函数自动传入\n",
    "    # 访问类的成员可以用__class__.attri来进行\n",
    "    def sayclass():\n",
    "        print(__class__.name)\n",
    "        print(\"dada\")\n",
    "        \n",
    "t = Teacher()\n",
    "t.say()\n",
    "# 调用绑定类函数使用类名\n",
    "Teacher.sayclass()\n",
    "# 否则报错\n",
    "t.sayclass()"
   ]
  },
  {
   "cell_type": "code",
   "execution_count": 19,
   "metadata": {},
   "outputs": [
    {
     "name": "stdout",
     "output_type": "stream",
     "text": [
      "asdf\n",
      "200\n",
      "asdf\n",
      "200\n",
      "abc\n",
      "18\n",
      "bbbb\n",
      "90\n"
     ]
    }
   ],
   "source": [
    "# 关于self的案例\n",
    "\n",
    "class A():\n",
    "    name = \"abc\"\n",
    "    age = 18\n",
    "    \n",
    "    # 构造函数，默认传入的\n",
    "    def __init__(self):\n",
    "        self.name = \"asdf\"\n",
    "        self.age = 200\n",
    "        \n",
    "    def say(self):\n",
    "        print(self.name)\n",
    "        print(self.age)\n",
    "        \n",
    "class B():\n",
    "    name = \"bbbb\"\n",
    "    age = 90\n",
    "    \n",
    "a = A()\n",
    "# 默认将a作为第一个参数传入（即self）\n",
    "a.say()\n",
    "# 实际上，类也可以使用该方法，只需要传入一个符合该方法内容要求的变量即可\n",
    "# 有相应的属性就可以了\n",
    "A.say(a)\n",
    "# 即将类本身作为参数传入也是可以的\n",
    "A.say(A)\n",
    "# B是具有要求属性的，因此其实也是可以的\n",
    "A.say(B)\n",
    "\n",
    "# Python的特点--鸭子模型，只要具备相关属性，就认为是一样的"
   ]
  },
  {
   "cell_type": "markdown",
   "metadata": {},
   "source": [
    "# 6. 面向对象的三大特性\n",
    "- 封装\n",
    "- 继承\n",
    "- 多态\n",
    "\n",
    "## 6.1 封装\n",
    "- 封装就是对对象的成员进行访问限制\n",
    "- 封装的三个级别：\n",
    "    - 公开，public\n",
    "    - 受保护的，protected  _xxx\n",
    "    - 私有的，private  __xx\n",
    "    - public，private，protected不是关键字（python主要继承思想）\n",
    "- 判别对象的位置\n",
    "    - 对象内部\n",
    "    - 对象外部\n",
    "    - 子类中\n",
    "python中下划线使用\n",
    "- 私有\n",
    "    - 私有成员是最高级别的封装，只能在当前类或对象中访问\n",
    "    - 在成员前面添加两个两个下划线即可\n",
    "    - Python的私有不是真私有，是一种成为name mangling的改名策略 可以使用对象._classname_attributename访问(其实只是一个障眼法，只是不知道实际名字而已)\n",
    "\n"
   ]
  },
  {
   "cell_type": "code",
   "execution_count": 25,
   "metadata": {},
   "outputs": [
    {
     "name": "stdout",
     "output_type": "stream",
     "text": [
      "liuying\n",
      "{'__module__': '__main__', 'name': 'liuying', '_Person__age': 18, '__dict__': <attribute '__dict__' of 'Person' objects>, '__weakref__': <attribute '__weakref__' of 'Person' objects>, '__doc__': None}\n",
      "19\n"
     ]
    }
   ],
   "source": [
    "# 私有变量案例\n",
    "\n",
    "class Person():\n",
    "      # name是共有的成员，可被外部修改 \n",
    "      name = \"liuying\"\n",
    "      # __age就是私有成员，不可被外部直接修改\n",
    "      __age = 18\n",
    "\n",
    "p = Person()\n",
    "# name是公有变量\n",
    "print(p.name)\n",
    "# __age是私有变量,直接访问会没有，因为被改名了\n",
    "# print(__age)\n",
    "\n",
    "# name mangling技术\n",
    "print(Person.__dict__)\n",
    "p._Person__age = 19\n",
    "print(p._Person__age) # 这样就可以进行访问，但是一般不推荐，因为代码\n",
    "# 某一成员私有化意味着不希望被修改"
   ]
  },
  {
   "cell_type": "markdown",
   "metadata": {},
   "source": [
    "- 受保护的封装 protected\n",
    "    - 受保护的封装是将对象成员进行一定级别的封装，然后，在类中或者子类中都可以进行访问，但是在外部不可以\n",
    "    - 封装方法： 在成员名称前添加一个下划线即可\n",
    "- 公开的，公共的 public\n",
    "    - 公共的封装实际对成员没有任何操作，任何地方都可以访问\n",
    "    \n",
    "## 3.2 继承\n",
    "- 继承就是一个类可以获得另外一个类中的成员属性和成员方法\n",
    "- 作用： 减少代码，增加代码的复用功能， 同时可以设置类与类直接的关系\n",
    "- 继承与被继承的概念：\n",
    "    - 被继承的类叫父类，也叫基类，也叫超类\n",
    "    - 用于继承的类，叫子类，也叫派生类\n",
    "    - 继承与被继承一定存在一个 is-a 关系"
   ]
  },
  {
   "cell_type": "code",
   "execution_count": 38,
   "metadata": {},
   "outputs": [
    {
     "name": "stdout",
     "output_type": "stream",
     "text": [
      "make some money\n",
      "attention\n",
      "9527\n",
      "NoName\n",
      "sec\n",
      "NoName\n",
      "Sleep ......\n"
     ]
    },
    {
     "ename": "AttributeError",
     "evalue": "'Teacher' object has no attribute '__score'",
     "output_type": "error",
     "traceback": [
      "\u001b[0;31m---------------------------------------------------------------------------\u001b[0m",
      "\u001b[0;31mAttributeError\u001b[0m                            Traceback (most recent call last)",
      "\u001b[0;32m<ipython-input-38-eb50cdedaf79>\u001b[0m in \u001b[0;36m<module>\u001b[0;34m()\u001b[0m\n\u001b[1;32m     32\u001b[0m \u001b[0mprint\u001b[0m\u001b[0;34m(\u001b[0m\u001b[0mTeacher\u001b[0m\u001b[0;34m.\u001b[0m\u001b[0mname\u001b[0m\u001b[0;34m)\u001b[0m\u001b[0;34m\u001b[0m\u001b[0m\n\u001b[1;32m     33\u001b[0m \u001b[0mt\u001b[0m\u001b[0;34m.\u001b[0m\u001b[0msleep\u001b[0m\u001b[0;34m(\u001b[0m\u001b[0;34m)\u001b[0m\u001b[0;34m\u001b[0m\u001b[0m\n\u001b[0;32m---> 34\u001b[0;31m \u001b[0mprint\u001b[0m\u001b[0;34m(\u001b[0m\u001b[0mt\u001b[0m\u001b[0;34m.\u001b[0m\u001b[0m__score\u001b[0m\u001b[0;34m)\u001b[0m\u001b[0;34m\u001b[0m\u001b[0m\n\u001b[0m",
      "\u001b[0;31mAttributeError\u001b[0m: 'Teacher' object has no attribute '__score'"
     ]
    }
   ],
   "source": [
    "# 继承的语法和使用\n",
    "# Python中，任何类都有一个共同的父类叫object\n",
    "class Person():\n",
    "        name = \"NoName\"\n",
    "        age = 0\n",
    "        __score = 0 # __是私有的，只有自己可以用\n",
    "        _petname = \"sec\" # 小名，一个下划线，_是保护的，子类可以用，但不能公用\n",
    "        def sleep(self):\n",
    "            print(\"Sleep ......\")\n",
    "        # 人工作，老师工作在智商扩充\n",
    "        def work(self):\n",
    "            print(\"make some money\")\n",
    "\n",
    "# 父类写在括号里\n",
    "class Teacher(Person):\n",
    "    teacher_id = \"9527\"\n",
    "    # 进行扩充\n",
    "    def work(self):\n",
    "        # 扩充父类功能只需要调用相应函数,使用父类功能\n",
    "        # Personwork（self）\n",
    "        # super代表父类，super().方法，效果一样\n",
    "        Person.work(self)\n",
    "        self.make_test()\n",
    "    def make_test(self):\n",
    "        print(\"attention\")\n",
    "    \n",
    "t = Teacher()\n",
    "t.work()\n",
    "print(t.teacher_id)\n",
    "print(t.name)\n",
    "print(t._petname)\n",
    "print(Teacher.name)\n",
    "t.sleep()\n",
    "print(t.__score)"
   ]
  },
  {
   "cell_type": "markdown",
   "metadata": {},
   "source": [
    "- 继承的特征\n",
    "    - 所有的类都继承自object类，即所有的类都是object类的子类\n",
    "    - 子类一旦继承父类，则可以使用父类中除私有成员外的所有内容\n",
    "    - 子类继承父类后并没有将父类成员完全赋值到子类中，而是通过引用关系访问调用\n",
    "    - 子类中可以定义独有的成员属性和方法\n",
    "    - 子类中定义的成员和父类成员如果相同，则优先使用子类成员\n",
    "    - 子类如果想扩充父类的方法，可以在定义新方法的同时访问父类成员来进行代码重用， 可以使用 [父类名.父类成员] 的格式来调用父类成员，也可以使用super().父类成员的 格式来调用\n",
    "    - 做法看上面\n",
    "- 继承变量函数的查找顺序问题，（先看自己再看父类)\n",
    "    - 优先查找自己的变量\n",
    "    - 没有则查找父类\n",
    "    - 构造函数如果本类中没有定义，则自动查找调用父类构造函数\n",
    "    - 如果本类有定义，则不在继续向上查找\n",
    "- 构造函数\n",
    "    - 是一类特殊的函数，在类进行实例化之前进行调用\n",
    "    - 如果定义了构造函数，则实例化时使用构造函数，不查找父类构造函数\n",
    "    - 如果没定义，则自动查找父类构造函数\n",
    "    - 如果子类没定义，父类的构造函数带参数，则构造对象时的参数应该按父类参数构造"
   ]
  },
  {
   "cell_type": "code",
   "execution_count": 40,
   "metadata": {},
   "outputs": [
    {
     "name": "stdout",
     "output_type": "stream",
     "text": [
      "I am init in dag!\n"
     ]
    }
   ],
   "source": [
    "# 构造函数的概念和做法\n",
    "\n",
    "class Dog():\n",
    "    # __init__就是构造函数\n",
    "    # 每次实例化的时候，第一个被自动调用\n",
    "    # 因为主要工作是初始化，因此得名\n",
    "    def __init__(self):\n",
    "        print(\"I am init in dag!\")\n",
    "        \n",
    "kaka = Dog()"
   ]
  },
  {
   "cell_type": "code",
   "execution_count": 62,
   "metadata": {},
   "outputs": [
    {
     "name": "stdout",
     "output_type": "stream",
     "text": [
      "I am init in dag!\n",
      "Cat lili\n"
     ]
    }
   ],
   "source": [
    "# 继承的构造函数\n",
    "\n",
    "class Animal():\n",
    "    def __init__(self, name):\n",
    "        print(\"Dongwu {0}\".format(name))\n",
    "\n",
    "class PaxingAni(Animal):\n",
    "    def __init__(self):\n",
    "        print(\"Paxing Dongwu\")\n",
    "\n",
    "class Dog(PaxingAni):\n",
    "    # __init__就是构造函数\n",
    "    # 每次实例化的时候，第一个被自动调用\n",
    "    # 因为主要工作是初始化，因此得名\n",
    "    def __init__(self):\n",
    "        print(\"I am init in dag!\")\n",
    "        \n",
    "# 设置一个本身没有构造函数的\n",
    "class Cat(PaxingAni):\n",
    "    def __init__(self, name):\n",
    "        print(\"Cat {0}\".format(name)) \n",
    "\n",
    "# 实例化时，括号内的参数需要跟构造函数参数相匹配\n",
    "# 由于找到自身的构造函数，因此不往上查找\n",
    "kaka = Dog()\n",
    "# 此时因自动调用父类的构造函数，找不到继续向上,参数要与本身构造函数相匹配\n",
    "d = Cat(\"lili\")"
   ]
  },
  {
   "cell_type": "markdown",
   "metadata": {},
   "source": [
    "- super（和self其实类似）\n",
    "    - super不是关键字， 而是一个类\n",
    "    - super的作用是获取MRO（MethodResolustionOrder）列表中的第一个类(这里面的第一个往往就是父类)\n",
    "    - super于父类直接没任何实质性关系，但通过super可以调用到父类\n",
    "    - super使用两个方法,参见在构造函数中调用父类的构造函数"
   ]
  },
  {
   "cell_type": "code",
   "execution_count": 61,
   "metadata": {},
   "outputs": [
    {
     "name": "stdout",
     "output_type": "stream",
     "text": [
      "<class 'type'>\n",
      "(<class '__main__.A'>, <class 'object'>)\n",
      "(<class '__main__.B'>, <class '__main__.A'>, <class 'object'>)\n"
     ]
    }
   ],
   "source": [
    "# super\n",
    "print(type(super))\n",
    "# help(super)\n",
    "\n",
    "# mro,显示所有父类的列表\n",
    "class A():\n",
    "    pass\n",
    "\n",
    "class B(A):\n",
    "    pass\n",
    "\n",
    "print(A.__mro__)\n",
    "print(B.__mro__)\n",
    "# 从左往右显示父类，从本身开始，用于查找继承关系或者说是家谱"
   ]
  },
  {
   "cell_type": "markdown",
   "metadata": {},
   "source": [
    "- 单继承和多继承\n",
    "    - 单继承：每个类只能继承一个类（比较推荐）\n",
    "    - 多继承，每个类允许继承多个类(比较麻烦易出问题，java就不允许）\n",
    "- 单继承和多继承的优缺点\n",
    "- 单继承：\n",
    "    - 传承有序逻辑清晰语法简单隐患少呀\n",
    "    - 功能不能无限扩展，只能在当前唯一的继承链中扩展\n",
    "- 多继承：\n",
    "    - 优点：类的功能扩展方便\n",
    "    - 缺点：继承关系混乱\n",
    "- 菱形继承/钻石继承问题\n",
    "    - 多个子类继承自同一个父类，这些子类由被同一个类继承，于是继承关系图形成一个菱形图谱\n",
    "    - MRO(http://www.cnblogs.com/whatisfantasy/p/6046991.html)\n",
    "    - 关于多继承的MRO\n",
    "        - MRO就是多继承中，用于保存继承顺序的一个列表\n",
    "        - python本身采用C3算法来多多继承的菱形继承进行计算的结果\n",
    "        - MRO列表的计算原则：\n",
    "            - 子类永远在父类前面\n",
    "            - 如果多个父类，则根据继承语法中括号内类的书写顺序存放\n",
    "            - 如果多个类继承了同一个父类，孙子类中只会选取继承语法括号中第一个父类的父类(只看第一个父类的父亲)\n"
   ]
  },
  {
   "cell_type": "code",
   "execution_count": 69,
   "metadata": {},
   "outputs": [
    {
     "name": "stdout",
     "output_type": "stream",
     "text": [
      "swimming\n",
      "flying\n",
      "working\n",
      "working\n"
     ]
    }
   ],
   "source": [
    "# 多继承和单继承\n",
    "class Fish():\n",
    "    def __init__(self, name):\n",
    "        self.name = name\n",
    "        \n",
    "    def swim(self):\n",
    "        print(\"swimming\")\n",
    "        \n",
    "class Bird():\n",
    "    def __init__(self, name):\n",
    "        self.name = name\n",
    "        \n",
    "    def fly(self):\n",
    "        print(\"flying\")\n",
    "        \n",
    "class  Person():\n",
    "    def __init__(self, name):\n",
    "        self.name = name\n",
    "        \n",
    "    def work(self):\n",
    "        print(\"working\")\n",
    "\n",
    "# 多继承的例子\n",
    "class Student(Person):\n",
    "    def __init__(self, name):\n",
    "        self.name = name\n",
    "\n",
    "# 多继承的例子,问题在当多个父类有同名成员，这个继承的顺序就成了问题，具体继承谁的       \n",
    "class SuperMan(Person, Bird, Fish):\n",
    "    def __init__(self, name):\n",
    "        self.name = name\n",
    "\n",
    "# 继承多个父亲均可使用，但是继承时是有顺序关系\n",
    "s = SuperMan(\"yue\")\n",
    "s.swim()\n",
    "s.fly()\n",
    "s.work()\n",
    "t = Student(\"iu\")\n",
    "t.work()"
   ]
  },
  {
   "cell_type": "code",
   "execution_count": 72,
   "metadata": {},
   "outputs": [
    {
     "name": "stdout",
     "output_type": "stream",
     "text": [
      "(<class '__main__.D'>, <class '__main__.B'>, <class '__main__.C'>, <class '__main__.A'>, <class 'object'>)\n"
     ]
    }
   ],
   "source": [
    "# 菱形继承问题\n",
    "class A():\n",
    "    pass\n",
    "class B(A):\n",
    "    pass\n",
    "class C(A):\n",
    "    pass\n",
    "class D(B, C):\n",
    "    pass\n",
    "\n",
    "print(D.__mro__)"
   ]
  },
  {
   "cell_type": "markdown",
   "metadata": {},
   "source": [
    "- 构造函数\n",
    "    - 在对象进行实例化的时候，系统自动调用的一个函数叫构造函数，通常此函数用来对实例对象进行初始化，顾名\n",
    "    - 构造函数一定要有，如果没有，则自动向上查找，按照MRO顺序，直到找到为止（同时要符合参数匹配）"
   ]
  },
  {
   "cell_type": "code",
   "execution_count": 74,
   "metadata": {},
   "outputs": [
    {
     "name": "stdout",
     "output_type": "stream",
     "text": [
      "In init func\n"
     ]
    }
   ],
   "source": [
    "# 构造函数的例子\n",
    "\n",
    "class Person():\n",
    "    def __init__(self):\n",
    "        self.name = \"Noname\"\n",
    "        self.age = 18\n",
    "        self.address = \"Studentwhonheim\"\n",
    "        print(\"In init func\")\n",
    "\n",
    "# 实例化一个人\n",
    "p = Person()"
   ]
  },
  {
   "cell_type": "code",
   "execution_count": 80,
   "metadata": {},
   "outputs": [
    {
     "name": "stdout",
     "output_type": "stream",
     "text": [
      "B\n",
      "我是C\n",
      "C的附加功能\n",
      "--------------------\n"
     ]
    }
   ],
   "source": [
    "# 构造函数的调用\n",
    "class A():\n",
    "    def __init__(self):\n",
    "        print(\"A\")\n",
    "        \n",
    "class B(A):\n",
    "    def __init__(self, name):\n",
    "        print(\"B\")\n",
    "        print(name)\n",
    "        \n",
    "class C(B):\n",
    "    # 符合B的构造函数\n",
    "    # C想扩充B的构造函数\n",
    "    # 即调用B的构造函数后添加一些功能\n",
    "    # 两种实现，1.通过父类名调用；2.使用super（）.xxx\n",
    "    def __init__(self, name):\n",
    "        # 首先调用B的构造函数\n",
    "        #B.__init__(self, name)\n",
    "        # 第二种\n",
    "        super(C, self).__init__(name)\n",
    "        # 增加自己的功能\n",
    "        print(\"C的附加功能\")\n",
    "    \n",
    "# 实例化，先分别查找自身的构造函数，再按mro顺序查找符合的父类构造函数\n",
    "c = C(\"我是C\")\n",
    "print(\"-\" * 20)\n",
    "\n"
   ]
  },
  {
   "cell_type": "markdown",
   "metadata": {},
   "source": [
    "## 3.3 多态\n",
    "- 多态就是同一个对象在不同情况下有不同的状态出现\n",
    "- 多态不是语法，是一种设计思想（在java中就可以有多个构造函数，不同参数，可以看参数的数量选择构造函数；python不允许，语法上不支持多态）\n",
    "- 多态性： 一种调用方式，不同的执行效果\n",
    "- 多态： 同一事物的多种形态，动物分为人类，狗类，猪类\n",
    "- 多态和多态性(http://www.cnblogs.com/luchuangao/p/6739557.html)\n",
    "- Mixin设计模式(掺入)\n",
    "    - 主要采用多继承方式对类的功能进行扩展\n",
    "    - Mixin概念https://www.zhihu.com/question/20778853\n",
    "    - MRO and Mixin https://blog.csdn.net/robinjwong/article/details/48375833\n",
    "    - Mixin模式 https://www.cnblogs.com/xybaby/p/6484262.html\n",
    "    - Mixin MRO http://runforever.github.io/2014-07-19/2014-07-19-python-mixin%E5%AD%A6%E4%B9%A0%E7%AC%94%E8%AE%B0/\n",
    "    - MRO http://xiaocong.github.io/blog/2012/06/13/python-mixin-and-mro/\n",
    "- 我们使用多继承语法来实现Minxin（本质就是规范化的多继承）\n",
    "- 使用Mixin实现多继承的时候非常小心\n",
    "    - 首先他必须表示某一单一功能，而不是某个物品\n",
    "    - 职责必须单一，如果由多个功能，则写多个Mixin\n",
    "    - Mixin不能依赖于子类的实现\n",
    "    - 子类及时没有继承这个Mixin类， 也能照样工作，只是缺少了某个功能\n",
    "- 优点\n",
    "    - 使用Mixin可以在不对类进行任何修改的情况下，扩充功能（模块化）\n",
    "    - 可以方便的组织和维护不同功能组件的划分\n",
    "    - 可以根据需要任意调整功能类的组合\n",
    "    - 可以避免创建很多新的类，导致类的继承混乱"
   ]
  },
  {
   "cell_type": "code",
   "execution_count": 85,
   "metadata": {},
   "outputs": [
    {
     "name": "stdout",
     "output_type": "stream",
     "text": [
      "(<class '__main__.Tutor'>, <class '__main__.Teacher'>, <class '__main__.Student'>, <class '__main__.Person'>, <class 'object'>)\n",
      "{}\n",
      "{'__module__': '__main__', '__doc__': None}\n",
      "--------------------\n",
      "1: (<class '__main__.TutorM'>, <class '__main__.Person'>, <class '__main__.TeacherMixin'>, <class '__main__.StudentMixin'>, <class 'object'>)\n",
      "2: {}\n",
      "3: {'__module__': '__main__', '__doc__': None}\n"
     ]
    }
   ],
   "source": [
    "# 普通案例\n",
    "class Person():\n",
    "    name = \"lili\"\n",
    "    age = 18\n",
    "    \n",
    "def eat(self):\n",
    "    print(\"EAT...\")\n",
    "    \n",
    "def drink(self):\n",
    "    print(\"DRINK...\")\n",
    "        \n",
    "def sleep(self):\n",
    "    print(\"SLEEP...\")\n",
    "        \n",
    "class Teacher(Person):\n",
    "    def work(self):\n",
    "            print(\"work\")\n",
    "    \n",
    "class Student(Person):\n",
    "    def study(self):\n",
    "            print(\"Study\")\n",
    "            \n",
    "class Tutor(Teacher, Student):\n",
    "    pass\n",
    "    \n",
    "t = Tutor()\n",
    "    \n",
    "print(Tutor.__mro__)\n",
    "print(t.__dict__)\n",
    "print(Tutor.__dict__)\n",
    "\n",
    "print(\"-\" * 20)\n",
    "\n",
    "# Mixin案例,带Mixin的便是功能挂件\n",
    "# 老师和学生就没有父类，只是简单表示单一功能，这样子mro会很清晰\n",
    "class TeacherMixin():\n",
    "    def work(self):\n",
    "        print(\"Work\")\n",
    "        \n",
    "class StudentMixin():\n",
    "    def study(self):\n",
    "        print(\"Study\")\n",
    "\n",
    "class TutorM(Person, TeacherMixin, StudentMixin):\n",
    "    pass\n",
    "\n",
    "tt = TutorM()\n",
    "print(\"1:\",TutorM.__mro__)\n",
    "print(\"2:\",tt.__dict__)\n",
    "print(\"3:\",TutorM.__dict__)"
   ]
  },
  {
   "cell_type": "markdown",
   "metadata": {},
   "source": [
    "# 4. 类相关函数\n",
    "- issubclass（B, A）:检测一个类B是否是另一个类A的子类 看成一句话理解就好\n",
    "- isinstance:检测一个对象是否是一个类的实例\n",
    "- hasattr:检测一个对象是否有成员xxx\n",
    "- getattr: get attribute\n",
    "- setattr: set attribute\n",
    "- delattr: delete attribute\n",
    "- dir: 获取对象的成员列表\n",
    "# 5.类的成员描述符（属性）\n",
    "- 类的成员描述符是为了在类中对类的成员属性进行相关操作而创建的一种方式\n",
    "    - get： 获取属性的操作\n",
    "    - set：修改或者添加属性操作\n",
    "    - delete： 删除属性的操作\n",
    "- 如果想使用类的成员描述符，大概有三种方法\n",
    "    - 使用类实现描述器\n",
    "    - 使用属性修饰符\n",
    "    - 使用property函数\n",
    "        - property函数很简单\n",
    "        - property(fget, fset, fdel, doc)\n",
    "    - 案例"
   ]
  },
  {
   "cell_type": "code",
   "execution_count": 100,
   "metadata": {},
   "outputs": [
    {
     "name": "stdout",
     "output_type": "stream",
     "text": [
      "TULINGTULING\n",
      "12\n"
     ]
    }
   ],
   "source": [
    "# 使用property函数的案例\n",
    "# 定义一个Person类，具有name，age属性\n",
    "# 对于任意输入的姓名，我们都希望用大写保存\n",
    "# 年龄用整数保存\n",
    "# x = property(fget, fset, fdel, doc)\n",
    "class Person():\n",
    "    # 函数名称可以任意\n",
    "    def fget(self):\n",
    "        return self._name * 2\n",
    "    \n",
    "    def fset(self, name):\n",
    "        # 所有输入大写形式保存\n",
    "        self._name = name.upper()\n",
    "        \n",
    "    def fdel(self):\n",
    "        self._name = \"NoName\"\n",
    "    \n",
    "    def ageget(self):\n",
    "        return self._age\n",
    "    def ageset(self, age):\n",
    "        self._age = int(age)\n",
    "        \n",
    "    name = property(fget, fset, fdel, \"对name进行一下以下操作\")\n",
    "    age = property(ageget,ageset)\n",
    "p1 = Person()\n",
    "p1.name = \"TuLing\"\n",
    "p1.age = 12.3\n",
    "print(p1.name)\n",
    "print(p1.age)"
   ]
  },
  {
   "cell_type": "markdown",
   "metadata": {},
   "source": [
    "- 无论哪种修饰符都是为了对成员属性进行相应的控制\n",
    "    - 类的方式： 适合多个类中的多个属性共用一个描述符\n",
    "    - property：使用当前类中使用，可以控制一个类中多个属性\n",
    "    - 属性修饰符： 使用于当前类中使用，控制一个类中的一个属性\n",
    "\n",
    "# 6. 类的内置属性\n",
    "    __dict__:以字典的方式显示类的成员组成\n",
    "    __doc__: 获取类的文档信息\n",
    "    __name__:获取类的名称，如果在模块中使用，获取模块的名称\n",
    "    __bases__: 获取某个类的所有父类，以元组的方式显示\n",
    "\n",
    "# 7. 类的常用魔术方法\n",
    "- 魔术方法就是不需要人为调用的方法，基本是在特定的时刻自动触发\n",
    "- 魔术方法的统一的特征，方法名被前后各两个下滑线包裹\n",
    "- 操作类\n",
    "    - __init__: 构造函数\n",
    "    - __new__: 对象实例化方法，此函数较特殊，一般不需要使用（实例化是最先被调用）\n",
    "    - __call__: 对象被当函数使用（被调用）的时候触发\n",
    "    - __str__: 当对象被当做字符串使用的时候调用\n",
    "    - __repr__: 返回字符串，跟__str__具体区别请百度"
   ]
  },
  {
   "cell_type": "code",
   "execution_count": 104,
   "metadata": {},
   "outputs": [
    {
     "name": "stdout",
     "output_type": "stream",
     "text": [
      "先被调用了\n",
      "被当成函数使用了\n",
      "字符串的表达形式\n"
     ]
    }
   ],
   "source": [
    "# __call__举例\n",
    "class A():\n",
    "    \n",
    "    def __init__(self, name = 0):\n",
    "        print(\"先被调用了\")\n",
    "    \n",
    "    def __call__(self):\n",
    "        print(\"被当成函数使用了\")\n",
    "        \n",
    "    def __str__(self):\n",
    "        return \"字符串的表达形式\"\n",
    "        \n",
    "a = A()\n",
    "a()\n",
    "print(a)"
   ]
  },
  {
   "cell_type": "markdown",
   "metadata": {},
   "source": [
    "- 描述符相关\n",
    "    - __set__\n",
    "    - __get__\n",
    "    - __delete__\n",
    "- 属性操作相关\n",
    "    - __getattr__: 访问一个不存在的属性时触发\n",
    "    - __setattr__: 对成员属性进行设置的时候触发\n",
    "    - 参数：\n",
    "        - self用来获取当前对象\n",
    "        - 被设置的属性名称，以字符串形式出现\n",
    "        - 需要对属性名称设置的值\n",
    "    - 作用：进行属性设置的时候进行验证或者修改\n",
    "    - 注意： 在该方法中不能对属性直接进行赋值操作，否则死循环\n",
    "    - 参看案例"
   ]
  },
  {
   "cell_type": "code",
   "execution_count": 112,
   "metadata": {},
   "outputs": [
    {
     "name": "stdout",
     "output_type": "stream",
     "text": [
      "NoName\n",
      "没有addr这个属性\n",
      "\n",
      "--------------------\n",
      "{}\n",
      "设置属性：age\n"
     ]
    }
   ],
   "source": [
    "# __getattr__\n",
    "\n",
    "class A():\n",
    "    name = \"NoName\"\n",
    "    age = \"18\"\n",
    "    def __getattr__(self, other):\n",
    "        print(\"没有{0}这个属性\".format(other))\n",
    "        return \"\"  # 返回空，否则会自动返回None，因为没有设置返回值\n",
    "\n",
    "        \n",
    "a = A()\n",
    "print(a.name)\n",
    "print(a.addr)\n",
    "\n",
    "print(\"-\" * 20)\n",
    "\n",
    "# __setattr__案例\n",
    "class Person():\n",
    "    def __init__(self):\n",
    "        pass\n",
    "    \n",
    "    def __setattr__(self, name, value):\n",
    "        print(\"设置属性：{0}\".format(name))\n",
    "        # self.name = value\n",
    "        # 如果在内部赋值，会进入死循环\n",
    "        # 因为本来这个函数就是属性赋值时触发，而在内部又进行了属性赋值，就会不断触发\n",
    "        # 此情况，为了避免死循环，规定统一调用父亲魔法函数\n",
    "        super().__setattr__(name, value)\n",
    "p = Person()\n",
    "print(p.__dict__)\n",
    "p.age = 18"
   ]
  },
  {
   "cell_type": "markdown",
   "metadata": {},
   "source": [
    "- 运算分类相关魔术方法\n",
    "    - __gt__: 进行大于判断的时候触发的函数\n",
    "        - 参数：\n",
    "            - self\n",
    "            - 第二个参数是第二个对象\n",
    "            - 返回值可以是任意值，推荐返回布尔值\n",
    "            - 案例"
   ]
  },
  {
   "cell_type": "code",
   "execution_count": 115,
   "metadata": {},
   "outputs": [
    {
     "name": "stdout",
     "output_type": "stream",
     "text": [
      "哈哈，one会比two大吗？\n",
      "False\n"
     ]
    }
   ],
   "source": [
    "# __gt__举例\n",
    "\n",
    "class Student():\n",
    "    def __init__(self, name):\n",
    "        self._name = name\n",
    "        \n",
    "    def __gt__(self, obj):\n",
    "        print(\"哈哈，{0}会比{1}大吗？\".format(self._name, obj._name))\n",
    "        return self._name > obj._name # 设置比较的方法，比较名字的字符串大小\n",
    "    \n",
    "stu1 = Student(\"one\")\n",
    "stu2 = Student(\"two\")\n",
    "\n",
    "print(stu1 > stu2)"
   ]
  },
  {
   "cell_type": "markdown",
   "metadata": {},
   "source": [
    "# 8. 类和对象的三种方法\n",
    "- 实例方法\n",
    "    - 需要实例化对象才能使用的方法，使用过程中可能需要截止对象的其他对象的方法完成\n",
    "- 静态方法\n",
    "    - 不需要实例化，通过类直接访问\n",
    "- 类方法\n",
    "    - 不需要实例化\n",
    "- 参看案例\n",
    "- 三个方法具体区别自行百度,还有三种方法内存使用的区别"
   ]
  },
  {
   "cell_type": "code",
   "execution_count": 125,
   "metadata": {},
   "outputs": [
    {
     "name": "stdout",
     "output_type": "stream",
     "text": [
      "<__main__.Person object at 0x7f31f4093518>\n",
      "Eating...\n",
      "<class '__main__.Person'>\n",
      "Playing...\n",
      "<class '__main__.Person'>\n",
      "Playing...\n",
      "Saying...\n",
      "Saying...\n"
     ]
    }
   ],
   "source": [
    "# 三种方法的案例\n",
    "class Person:\n",
    "    # 实例方法，由self，给实例用的\n",
    "    def eat(self):\n",
    "        print(self)\n",
    "        print(\"Eating...\")\n",
    "        \n",
    "    # 类方法\n",
    "    # 类方法的第一个参数表示类，一般起名为cls，用于区别于self\n",
    "    @classmethod\n",
    "    def play(cls):\n",
    "        print(cls)\n",
    "        print(\"Playing...\")\n",
    "        \n",
    "    # 静态方法\n",
    "    # 不需要第一个参数表示实例自身或者类\n",
    "    @staticmethod\n",
    "    def say():\n",
    "        print(\"Saying...\")\n",
    "        \n",
    "yueyue = Person()\n",
    "\n",
    "# 实例调用实例方法\n",
    "yueyue.eat()\n",
    "# 类方法\n",
    "Person.play()\n",
    "# 实例调用类方法当做类方法使用\n",
    "yueyue.play()\n",
    "# 静态方法\n",
    "Person.say()\n",
    "yueyue.say()"
   ]
  },
  {
   "cell_type": "code",
   "execution_count": 127,
   "metadata": {},
   "outputs": [
    {
     "name": "stdout",
     "output_type": "stream",
     "text": [
      "sco\n"
     ]
    },
    {
     "ename": "AttributeError",
     "evalue": "'A' object has no attribute 'name'",
     "output_type": "error",
     "traceback": [
      "\u001b[0;31m---------------------------------------------------------------------------\u001b[0m",
      "\u001b[0;31mAttributeError\u001b[0m                            Traceback (most recent call last)",
      "\u001b[0;32m<ipython-input-127-ebbcf5ba0339>\u001b[0m in \u001b[0;36m<module>\u001b[0;34m()\u001b[0m\n\u001b[1;32m     11\u001b[0m \u001b[0mprint\u001b[0m\u001b[0;34m(\u001b[0m\u001b[0ma\u001b[0m\u001b[0;34m.\u001b[0m\u001b[0mname\u001b[0m\u001b[0;34m)\u001b[0m\u001b[0;34m\u001b[0m\u001b[0m\n\u001b[1;32m     12\u001b[0m \u001b[0;32mdel\u001b[0m \u001b[0ma\u001b[0m\u001b[0;34m.\u001b[0m\u001b[0mname\u001b[0m\u001b[0;34m\u001b[0m\u001b[0m\n\u001b[0;32m---> 13\u001b[0;31m \u001b[0mprint\u001b[0m\u001b[0;34m(\u001b[0m\u001b[0ma\u001b[0m\u001b[0;34m.\u001b[0m\u001b[0mname\u001b[0m\u001b[0;34m)\u001b[0m\u001b[0;34m\u001b[0m\u001b[0m\n\u001b[0m",
      "\u001b[0;31mAttributeError\u001b[0m: 'A' object has no attribute 'name'"
     ]
    }
   ],
   "source": [
    "# 属性的三种操作\n",
    "class A():\n",
    "    def __init__(self):\n",
    "        self.name = \"def\"\n",
    "        self.age = 18\n",
    "\n",
    "a = A()\n",
    "# 属性的三中操作：赋值，读取，删除\n",
    "\n",
    "a.name = \"sco\"\n",
    "print(a.name)\n",
    "del a.name\n",
    "print(a.name)"
   ]
  },
  {
   "cell_type": "code",
   "execution_count": 141,
   "metadata": {},
   "outputs": [
    {
     "name": "stdout",
     "output_type": "stream",
     "text": [
      "hah\n",
      "我被读取了\n",
      "hah\n"
     ]
    }
   ],
   "source": [
    "# 类属性 property\n",
    "# 使用场景\n",
    "# 对象除了普通的额三中操作外，还想增加些额外功能，就可以使用property函数\n",
    "# 使用了property以后，就是用预设的函数执行原本的三个普通操作\n",
    "class A():\n",
    "    def __init__(self):\n",
    "        self.name = \"hah\"\n",
    "        self.age = 18\n",
    "    \n",
    "    # 此功能是对类变量进行读取操作时应该执行的函数功能\n",
    "    def fget(self):\n",
    "        print(\"我被读取了\")\n",
    "        return self.name\n",
    "    \n",
    "     # 此功能是对类变量进行写操作时应该执行的函数功能\n",
    "    def fset(self, name):\n",
    "        print(\"正在写入\")\n",
    "        self.name = \"tx\" + name\n",
    "    \n",
    "    # fdel模拟的是删除变量时执行的操作\n",
    "    def fdel(self):\n",
    "        pass\n",
    "    \n",
    "    # 用property替代，指定是替代哪个变量的三个基本操作\n",
    "    # 放入参数的顺序是固定的：fget,fset,fdel,说明文档\n",
    "    name2 = property(fget, fset, fdel, \"这是这个的说明文档\")\n",
    "    \n",
    "a = A()\n",
    "print(a.name)\n",
    "# 这个使用的额是规定的操作，进行额外的功能\n",
    "print(a.name2)"
   ]
  },
  {
   "cell_type": "markdown",
   "metadata": {},
   "source": [
    "# 9. 所用软件\n",
    "- 画图软件是Faststone capture\n",
    "- 有问题加群 158184562\n",
    "- 官网地址 www.tulingxueyuan.com"
   ]
  },
  {
   "cell_type": "markdown",
   "metadata": {},
   "source": [
    "# 10. 抽象类\n",
    "- 抽象方法： 没有具体实现内容的方法成为抽象方法\n",
    "- 抽象方法的主要意义是规范了子类的行为和接口\n",
    "- 抽象类的使用需要借助abc模块\n",
    "        - import abc\n",
    "- 抽象类：包含抽象方法的类叫抽象类，通常成为ABC类\n",
    "- 抽象类的使用\n",
    "        - 抽象类可以包含抽象方法，也可以包含具体方法\n",
    "        - 抽象类中可以有方法也可以有属性\n",
    "        - 抽象类不允许直接实例化\n",
    "        - 必须继承才可以使用，且继承的子类必须实现所有继承来的抽象方法\n",
    "        - 假定子类没有是现实所有继承的抽象方法，则子类也不能实例化\n",
    "        - 抽象类的主要作用是设定类的标准，以便于开发的时候具有统一的规范"
   ]
  },
  {
   "cell_type": "code",
   "execution_count": 144,
   "metadata": {},
   "outputs": [
    {
     "name": "stdout",
     "output_type": "stream",
     "text": [
      "闻一下\n",
      "握手\n"
     ]
    }
   ],
   "source": [
    "# 抽象\n",
    "class Animal():\n",
    "    \n",
    "    def sayHello(self): # java里这个叫接口，给子类定义的规范,表明了子类应该具有的功能\n",
    "        pass\n",
    "# 子类必须实现，否则报错 # java中就是这样\n",
    "# 具体的行为在子类实现 \n",
    "class Dog(Animal):\n",
    "    \n",
    "    def sayHello(self):\n",
    "        print(\"闻一下\")\n",
    "\n",
    "class Person(Animal):\n",
    "    \n",
    "    def sayHello(self):\n",
    "        print(\"握手\")\n",
    "        \n",
    "d = Dog()\n",
    "d.sayHello()\n",
    "p = Person()\n",
    "p.sayHello()\n"
   ]
  },
  {
   "cell_type": "code",
   "execution_count": 145,
   "metadata": {
    "collapsed": true
   },
   "outputs": [],
   "source": [
    "# 抽象类的实现\n",
    "\n",
    "import abc\n",
    "\n",
    "# 声明一个类并且指定当前类的元类\n",
    "class Human(metaclass=abc.ABCMeta):\n",
    "    \n",
    "    # 定义一个抽象的方法\n",
    "    @abc.abstractmethod\n",
    "    def smoking(self):\n",
    "        pass\n",
    "    \n",
    "    # 定义类抽象方法\n",
    "    @abc.abstractclassmethod\n",
    "    def drink():\n",
    "        pass\n",
    "    \n",
    "    # 定义静态抽象方法\n",
    "    @abc.abstractstaticmethod\n",
    "    def play():\n",
    "        pass\n",
    "    \n",
    "    # 也可以正常定义方法和属性"
   ]
  },
  {
   "cell_type": "markdown",
   "metadata": {},
   "source": [
    "# 11. 自定义类\n",
    "- 类其实是一个类定义和各种方法的自由组合\n",
    "- 可以定义类和函数，然后自己通过类直接赋值\n",
    "- 可以借助于MethodType实现\n",
    "- 借助于type实现\n",
    "- 利用元类实现- MetaClass\n",
    "        - 元类是类\n",
    "        - 备用来创造别的类"
   ]
  },
  {
   "cell_type": "code",
   "execution_count": 151,
   "metadata": {},
   "outputs": [
    {
     "name": "stdout",
     "output_type": "stream",
     "text": [
      "Saying\n",
      "Saying\n"
     ]
    },
    {
     "ename": "AttributeError",
     "evalue": "'A' object has no attribute 'eat'",
     "output_type": "error",
     "traceback": [
      "\u001b[0;31m---------------------------------------------------------------------------\u001b[0m",
      "\u001b[0;31mAttributeError\u001b[0m                            Traceback (most recent call last)",
      "\u001b[0;32m<ipython-input-151-329cbce3d3b3>\u001b[0m in \u001b[0;36m<module>\u001b[0;34m()\u001b[0m\n\u001b[1;32m     25\u001b[0m \u001b[0mb\u001b[0m \u001b[0;34m=\u001b[0m \u001b[0mA\u001b[0m\u001b[0;34m(\u001b[0m\u001b[0;34m)\u001b[0m\u001b[0;34m\u001b[0m\u001b[0m\n\u001b[1;32m     26\u001b[0m \u001b[0mb\u001b[0m\u001b[0;34m.\u001b[0m\u001b[0meat\u001b[0m \u001b[0;34m=\u001b[0m \u001b[0meat\u001b[0m\u001b[0;34m\u001b[0m\u001b[0m\n\u001b[0;32m---> 27\u001b[0;31m \u001b[0ma\u001b[0m\u001b[0;34m.\u001b[0m\u001b[0meat\u001b[0m\u001b[0;34m(\u001b[0m\u001b[0;34m)\u001b[0m\u001b[0;34m\u001b[0m\u001b[0m\n\u001b[0m",
      "\u001b[0;31mAttributeError\u001b[0m: 'A' object has no attribute 'eat'"
     ]
    }
   ],
   "source": [
    "# 自己组装一个类,函数名称可以当变量用\n",
    "\n",
    "class A():\n",
    "    pass\n",
    "\n",
    "# 要组装的化注意这里要有self，方便传入对象，其实质就类似类里的方法了\n",
    "def say(self):\n",
    "    print(\"Saying\")\n",
    "    \n",
    "def eat(self):\n",
    "    print(\"Eatting\")\n",
    "    \n",
    "say(9)\n",
    "\n",
    "# 函数名称可以当变量使用，将函数say给了类A，A可以使用这个函数\n",
    "# 这个方法实际上是将符合要求的函数绑定进了类\n",
    "# 和java有点像（函数名可以当变量用，还可以继续使用）\n",
    "A.say = say\n",
    "\n",
    "a = A()\n",
    "# A的实例可以使用这个函数\n",
    "a.say()\n",
    "\n",
    "# 但是注意，不可以直接由实例去绑定\n",
    "b = A()\n",
    "b.eat = eat\n",
    "a.eat()"
   ]
  },
  {
   "cell_type": "code",
   "execution_count": 153,
   "metadata": {},
   "outputs": [
    {
     "name": "stdout",
     "output_type": "stream",
     "text": [
      "Saying\n"
     ]
    }
   ],
   "source": [
    "# 不可以直接由实例绑定，但可以借助特殊函数将其绑定上类\n",
    "# 归根结底还是要绑定要类上\n",
    "\n",
    "from types import MethodType\n",
    "\n",
    "class A():\n",
    "    pass\n",
    "\n",
    "def say(self):\n",
    "    print(\"Saying\")\n",
    "\n",
    "a = A()\n",
    "a.say = MethodType(say, A) # 将函数say绑在类A上\n",
    "a.say()"
   ]
  },
  {
   "cell_type": "code",
   "execution_count": 158,
   "metadata": {},
   "outputs": [
    {
     "name": "stdout",
     "output_type": "stream",
     "text": [
      "['__class__', '__delattr__', '__dict__', '__dir__', '__doc__', '__eq__', '__format__', '__ge__', '__getattribute__', '__gt__', '__hash__', '__init__', '__init_subclass__', '__le__', '__lt__', '__module__', '__ne__', '__new__', '__reduce__', '__reduce_ex__', '__repr__', '__setattr__', '__sizeof__', '__str__', '__subclasshook__', '__weakref__', 'class_say', 'class_talk']\n",
      "Saying\n"
     ]
    }
   ],
   "source": [
    "# 利用type造一个类\n",
    "\n",
    "# 先定义几个应该有的成员函数\n",
    "def say(self):\n",
    "    print(\"Saying\")\n",
    "    \n",
    "def talk(self):\n",
    "    print(Talking)\n",
    "\n",
    "# 第一个参数：新类的名称；第二个：父类；第三个：类里的方法和实际有的方法的对应\n",
    "A = type(\"Aname\", (object,), {\"class_say\":say, \"class_talk\":talk})\n",
    "a = A()\n",
    "print(dir(a))\n",
    "a.class_say()"
   ]
  },
  {
   "cell_type": "code",
   "execution_count": 161,
   "metadata": {},
   "outputs": [
    {
     "name": "stdout",
     "output_type": "stream",
     "text": [
      "这是元类\n"
     ]
    },
    {
     "data": {
      "text/plain": [
       "'00000'"
      ]
     },
     "execution_count": 161,
     "metadata": {},
     "output_type": "execute_result"
    }
   ],
   "source": [
    "# 元类演示\n",
    "\n",
    "# 元类的写法是固定的，必须继承自type\n",
    "# 名称一般以MetaClass结尾\n",
    "class tMetaClass(type):\n",
    "    # 注意一下写法\n",
    "    def __new__(cls, name, bases, attrs):\n",
    "    # 自己想要执行的操作\n",
    "        print(\"这是元类\")\n",
    "        attrs['id'] = '00000'\n",
    "        attrs['addr'] = \"beijing\"\n",
    "        return type.__new__(cls, name, bases, attrs)\n",
    "    \n",
    "# 元类定义完就可以使用，使用注意写法\n",
    "class Teacher(object, metaclass=tMetaClass):\n",
    "    pass\n",
    "\n",
    "t = Teacher()\n",
    "t.__dict__\n",
    "t.id"
   ]
  }
 ],
 "metadata": {
  "kernelspec": {
   "display_name": "Python 3",
   "language": "python",
   "name": "python3"
  },
  "language_info": {
   "codemirror_mode": {
    "name": "ipython",
    "version": 3
   },
   "file_extension": ".py",
   "mimetype": "text/x-python",
   "name": "python",
   "nbconvert_exporter": "python",
   "pygments_lexer": "ipython3",
   "version": "3.6.3"
  }
 },
 "nbformat": 4,
 "nbformat_minor": 2
}
