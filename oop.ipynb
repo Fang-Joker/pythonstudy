{
 "cells": [
  {
   "cell_type": "markdown",
   "metadata": {},
   "source": [
    "# OOP－Python面向对象\n",
    "-　Python的面向对象\n",
    "    - 基础\n",
    "    - 公有私有\n",
    "    - 继承\n",
    "    - 组合，Minxi\n",
    "- 魔法函数\n",
    "    - 魔法函数概述\n",
    "    - 构造类魔法函数\n",
    "    - 运算类魔法函数\n",
    "\n",
    "# 1.面向对象编程：ObjectOriented oo\n",
    "- OOP思想\n",
    "    - 将世界抽象成由事物组成，其具有动作和属性\n",
    "    - OO:面向对象\n",
    "    - OOA:面向对象的分析\n",
    "    - OOD:面向对象的设计\n",
    "    - OOI:XXX的实现\n",
    "    - OOP:XXX的编程\n",
    "    - OOA>OOD>OOI:面向对象的实现过程\n",
    "- 类和对象的概念\n",
    "    - 类：抽象名词，代表的是一个集合，共性的事物\n",
    "    - 对象：具体的事物，单个个体，类的一个实例\n",
    "    - 两者关系\n",
    "        - 一个是一大类事物，一个是其中的一个具体个体\n",
    "    - 类应该由两个内容：属性（特征）和动作（成员方法即函数）\n",
    "    \n",
    "# 2.类的基本实现\n",
    "- 类的命名\n",
    "    - 遵守变量命名的规范\n",
    "    - 大驼峰（由一个或者多个单词构成，每个单词首字母大写，单词跟单词直接相连）\n",
    "    - 尽量避开跟系统命名相似的命名\n",
    "- 你如何声明一个类\n",
    "    - 必须用class关键字\n",
    "    - 类由属性和方法构成，其他不允许出现\n",
    "    - 成员属性定义可以直接使用变量赋值，如果没有值，可以使用None\n",
    "- 案例："
   ]
  },
  {
   "cell_type": "code",
   "execution_count": 5,
   "metadata": {},
   "outputs": [
    {
     "name": "stdout",
     "output_type": "stream",
     "text": [
      "None\n",
      "do homework\n"
     ]
    }
   ],
   "source": [
    "# 定义一个学生类\n",
    "class Student():\n",
    "    pass\n",
    "# 定义一个对象\n",
    "mingyue = Student()\n",
    "\n",
    "# 给类定义属性和方法\n",
    "class PythonStudent():\n",
    "    name = None\n",
    "    age = 18\n",
    "    course = \"Python\"\n",
    "    \n",
    "    # 方法默认由self参数，要加上\n",
    "    def doHomework(self):\n",
    "        print(\"do homework\")\n",
    "        \n",
    "        # 推荐在函数末尾进行返回return\n",
    "        return None\n",
    "# 实例化\n",
    "a = PythonStudent() \n",
    "# 属性直接用.attr,方法直接用.way()\n",
    "print(a.name)\n",
    "a.doHomework()"
   ]
  },
  {
   "cell_type": "markdown",
   "metadata": {},
   "source": [
    "- 实例化类\n",
    "    变量 = 类名（）\n",
    "- 访问对象：点操作符\n",
    "- 可通过默认内置变量检查类和对象的所有成员\n",
    "- 对象所有成员检查\n",
    "  dict前后各有两个下划线\n",
    "  obj.__dict__ \n",
    "- 类所有的成员\n",
    "    - dict前后各有两个下划线\n",
    " class_name.__dict__\n",
    "    "
   ]
  },
  {
   "cell_type": "code",
   "execution_count": 3,
   "metadata": {},
   "outputs": [
    {
     "data": {
      "text/plain": [
       "{}"
      ]
     },
     "execution_count": 3,
     "metadata": {},
     "output_type": "execute_result"
    }
   ],
   "source": [
    "# 表示\n",
    "class Student():\n",
    "    name = \"alex\"\n",
    "    age =15\n",
    "    \n",
    "Student.__dict__\n",
    "# 实例化\n",
    "y = Student()\n",
    "y.__dict__"
   ]
  },
  {
   "cell_type": "markdown",
   "metadata": {},
   "source": [
    "# 3.anaconda基本使用\n",
    "- anaconda主要是一个虚拟环境管理器\n",
    "- 还是一个安装包管理器\n",
    "- conda list： 显示anaconda安装的包\n",
    "- conda env list:显示anaconda的虚拟环境列表\n",
    "- conda create -n xxx python=3.6: 创建python版本为3.6的虚拟环境，名称为xxx\n",
    "- xxx也就是虚拟环境的名称，也可以当做使用该虚拟环境的项目"
   ]
  },
  {
   "cell_type": "markdown",
   "metadata": {},
   "source": [
    "# 4.类和对象的成员分析\n",
    "- 类和对象都可以存储成员，成员可以归类所有，也可以归对象所有\n",
    "- 类存储成员时使用的是与类关联的一个对象\n",
    "- 独享存储成员是是存储在当前对象中\n",
    "- 对象访问一个成员时，如果对象中没有该成员，尝试访问类中的同名成员， 如果对象中有此成员，一定使用对象中的成员\n",
    "- 创建对象的时候，类中的成员不会放入对象当中，而是得到一个空对象，没有成员\n",
    "- 通过对象对类中成员重新赋值或者通过对象添加成员时，对应成员会保存在对象中，而不会修改类成员"
   ]
  },
  {
   "cell_type": "code",
   "execution_count": 7,
   "metadata": {},
   "outputs": [
    {
     "name": "stdout",
     "output_type": "stream",
     "text": [
      "da\n",
      "18\n",
      "********************\n",
      "139852701838616\n",
      "94417832873728\n",
      "********************\n",
      "da\n",
      "18\n",
      "139852701838616\n",
      "94417832873728\n",
      "139852675124840\n",
      "94417832876352\n",
      "{'name': 'll', 'age': 100}\n"
     ]
    }
   ],
   "source": [
    "# 访问对象成员的实例\n",
    "class A():\n",
    "    name = \"da\"\n",
    "    age = 18\n",
    "    \n",
    "    def say(self):\n",
    "        self.name = \"asd\"\n",
    "        self.age =200\n",
    "\n",
    "# 类的实例的调用\n",
    "print(A.name)\n",
    "print(A.age)\n",
    "\n",
    "print(\"*\" *20)\n",
    "\n",
    "# 判断变量是否一样\n",
    "print(id(A.name))\n",
    "print(id(A.age))\n",
    "\n",
    "print(\"*\"*20)\n",
    "a = A()\n",
    "\n",
    "# 其实是指向类实例的位置\n",
    "print(a.name)\n",
    "print(a.age)\n",
    "print(id(a.name))\n",
    "print(id(a.age))\n",
    "\n",
    "#此案例说明，不对对象赋值的情况下，对象的属性是指向类实例的同一个变量\n",
    "# 当改变时，进行赋值时,新属性则在额外开辟的空间\n",
    "a.name = \"ll\"\n",
    "a.age = 100\n",
    "print(id(a.name))\n",
    "print(id(a.age))\n",
    "print(a.__dict__)"
   ]
  },
  {
   "cell_type": "markdown",
   "metadata": {},
   "source": [
    "# 5.关于self\n",
    "- 其实可以理解成java中的this\n",
    "- self在对象的方法中表示当前对象本身，如果通过对象调用一个方法，那么该对象会自动传入到当前方法 的第一个参数中\n",
    "- self并不是关键字，只是一个用于接受对象的普通参数，理论上可以用任何一个普通变量名代替\n",
    "- 方法中有self形参的方法成为非绑定类的方法，可以通过对象访问， 没有self的是绑定类的方法， 只能通过类访问\n",
    "- 使用类访问绑定类的方法时， 如果类方法中需要访问当前类的成员，可以通过 __class__成员名来访问"
   ]
  },
  {
   "cell_type": "code",
   "execution_count": 10,
   "metadata": {},
   "outputs": [
    {
     "name": "stdout",
     "output_type": "stream",
     "text": [
      "My name is asd\n",
      "My age is 200\n"
     ]
    }
   ],
   "source": [
    "class Student():\n",
    "    name = \"da\"\n",
    "    age = 18\n",
    "    \n",
    "    # 第一个参数默认传入，对象本身,self并非关键字，只是约定俗成的使用，可以修改的\n",
    "    def say(self):\n",
    "        self.name = \"asd\"\n",
    "        self.age =200\n",
    "        print(\"My name is {0}\".format(self.name))\n",
    "        print(\"My age is {0}\".format(self.age))\n",
    "        \n",
    "yy = Student()\n",
    "yy.say()"
   ]
  },
  {
   "cell_type": "code",
   "execution_count": 16,
   "metadata": {},
   "outputs": [
    {
     "name": "stdout",
     "output_type": "stream",
     "text": [
      "yyy\n",
      "da\n",
      "dada\n"
     ]
    },
    {
     "ename": "TypeError",
     "evalue": "sayclass() takes 0 positional arguments but 1 was given",
     "output_type": "error",
     "traceback": [
      "\u001b[0;31m---------------------------------------------------------------------------\u001b[0m",
      "\u001b[0;31mTypeError\u001b[0m                                 Traceback (most recent call last)",
      "\u001b[0;32m<ipython-input-16-a40eaf690027>\u001b[0m in \u001b[0;36m<module>\u001b[0;34m()\u001b[0m\n\u001b[1;32m     20\u001b[0m \u001b[0mTeacher\u001b[0m\u001b[0;34m.\u001b[0m\u001b[0msayclass\u001b[0m\u001b[0;34m(\u001b[0m\u001b[0;34m)\u001b[0m\u001b[0;34m\u001b[0m\u001b[0m\n\u001b[1;32m     21\u001b[0m \u001b[0;31m# 否则报错\u001b[0m\u001b[0;34m\u001b[0m\u001b[0;34m\u001b[0m\u001b[0m\n\u001b[0;32m---> 22\u001b[0;31m \u001b[0mt\u001b[0m\u001b[0;34m.\u001b[0m\u001b[0msayclass\u001b[0m\u001b[0;34m(\u001b[0m\u001b[0;34m)\u001b[0m\u001b[0;34m\u001b[0m\u001b[0m\n\u001b[0m",
      "\u001b[0;31mTypeError\u001b[0m: sayclass() takes 0 positional arguments but 1 was given"
     ]
    }
   ],
   "source": [
    "# 绑定类与非绑定类的方法\n",
    "class Teacher():\n",
    "    name =\"da\"\n",
    "    age = \"12\"\n",
    "    \n",
    "    # 未绑定类的方法，给对象用的\n",
    "    def say(self):\n",
    "        self.name = \"yyy\"\n",
    "        print(self.name)\n",
    "    \n",
    "    # 绑定类的方法，对象不能使用  因为使用实例调用方法时会将自身作为函数自动传入\n",
    "    # 访问类的成员可以用__class__.attri来进行\n",
    "    def sayclass():\n",
    "        print(__class__.name)\n",
    "        print(\"dada\")\n",
    "        \n",
    "t = Teacher()\n",
    "t.say()\n",
    "# 调用绑定类函数使用类名\n",
    "Teacher.sayclass()\n",
    "# 否则报错\n",
    "t.sayclass()"
   ]
  },
  {
   "cell_type": "code",
   "execution_count": 19,
   "metadata": {},
   "outputs": [
    {
     "name": "stdout",
     "output_type": "stream",
     "text": [
      "asdf\n",
      "200\n",
      "asdf\n",
      "200\n",
      "abc\n",
      "18\n",
      "bbbb\n",
      "90\n"
     ]
    }
   ],
   "source": [
    "# 关于self的案例\n",
    "\n",
    "class A():\n",
    "    name = \"abc\"\n",
    "    age = 18\n",
    "    \n",
    "    # 构造函数，默认传入的\n",
    "    def __init__(self):\n",
    "        self.name = \"asdf\"\n",
    "        self.age = 200\n",
    "        \n",
    "    def say(self):\n",
    "        print(self.name)\n",
    "        print(self.age)\n",
    "        \n",
    "class B():\n",
    "    name = \"bbbb\"\n",
    "    age = 90\n",
    "    \n",
    "a = A()\n",
    "# 默认将a作为第一个参数传入（即self）\n",
    "a.say()\n",
    "# 实际上，类也可以使用该方法，只需要传入一个符合该方法内容要求的变量即可\n",
    "# 有相应的属性就可以了\n",
    "A.say(a)\n",
    "# 即将类本身作为参数传入也是可以的\n",
    "A.say(A)\n",
    "# B是具有要求属性的，因此其实也是可以的\n",
    "A.say(B)\n",
    "\n",
    "# Python的特点--鸭子模型，只要具备相关属性，就认为是一样的"
   ]
  },
  {
   "cell_type": "markdown",
   "metadata": {},
   "source": [
    "# 6. 面向对象的三大特性\n",
    "- 封装\n",
    "- 继承\n",
    "- 多态\n",
    "\n",
    "## 6.1 封装\n",
    "- 封装就是对对象的成员进行访问限制\n",
    "- 封装的三个级别：\n",
    "    - 公开，public\n",
    "    - 受保护的，protected\n",
    "    - 私有的，private\n",
    "    - public，private，protected不是关键字（python主要继承思想）\n",
    "- 判别对象的位置\n",
    "    - 对象内部\n",
    "    - 对象外部\n",
    "    - 子类中\n",
    "python中下划线使用\n",
    "- 私有\n",
    "    - 私有成员是最高级别的封装，只能在当前类或对象中访问\n",
    "    - 在成员前面添加两个两个下划线即可\n",
    "    - Python的私有不是真私有，是一种成为name mangling的改名策略 可以使用对象._classname_attributename访问(其实只是一个障眼法，只是不知道实际名字而已)\n",
    "\n"
   ]
  },
  {
   "cell_type": "code",
   "execution_count": 24,
   "metadata": {},
   "outputs": [
    {
     "name": "stdout",
     "output_type": "stream",
     "text": [
      "liuying\n",
      "{'__module__': '__main__', 'name': 'liuying', '_Person__age': 18, '__dict__': <attribute '__dict__' of 'Person' objects>, '__weakref__': <attribute '__weakref__' of 'Person' objects>, '__doc__': None}\n",
      "19\n"
     ]
    }
   ],
   "source": [
    "# 私有变量案例\n",
    "\n",
    "class Person():\n",
    "      # name是共有的成员，可被外部修改 \n",
    "      name = \"liuying\"\n",
    "      # __age就是私有成员，不可被外部直接修改\n",
    "      __age = 18\n",
    "\n",
    "p = Person()\n",
    "# name是公有变量\n",
    "print(p.name)\n",
    "# __age是私有变量,直接访问会没有，因为被改名了\n",
    "# print(__age)\n",
    "\n",
    "# name mangling技术\n",
    "print(Person.__dict__)\n",
    "p._Person__age = 19\n",
    "print(p._Person__age) # 这样就可以进行访问，但是一般不推荐，因为代码\n",
    "# 某一成员私有化意味着不希望被修改"
   ]
  }
 ],
 "metadata": {
  "kernelspec": {
   "display_name": "Python 3",
   "language": "python",
   "name": "python3"
  },
  "language_info": {
   "codemirror_mode": {
    "name": "ipython",
    "version": 3
   },
   "file_extension": ".py",
   "mimetype": "text/x-python",
   "name": "python",
   "nbconvert_exporter": "python",
   "pygments_lexer": "ipython3",
   "version": "3.6.3"
  }
 },
 "nbformat": 4,
 "nbformat_minor": 2
}
