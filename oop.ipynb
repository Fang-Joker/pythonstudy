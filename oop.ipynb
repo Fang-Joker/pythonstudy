{
 "cells": [
  {
   "cell_type": "markdown",
   "metadata": {},
   "source": [
    "# OOP－Python面向对象\n",
    "-　Python的面向对象\n",
    "    - 基础\n",
    "    - 公有私有\n",
    "    - 继承\n",
    "    - 组合，Minxi\n",
    "- 魔法函数\n",
    "    - 魔法函数概述\n",
    "    - 构造类魔法函数\n",
    "    - 运算类魔法函数\n",
    "\n",
    "# 1.面向对象编程：ObjectOriented oo\n",
    "- OOP思想\n",
    "    - 将世界抽象成由事物组成，其具有动作和属性\n",
    "    - OO:面向对象\n",
    "    - OOA:面向对象的分析\n",
    "    - OOD:面向对象的设计\n",
    "    - OOI:XXX的实现\n",
    "    - OOP:XXX的编程\n",
    "    - OOA>OOD>OOI:面向对象的实现过程\n",
    "- 类和对象的概念\n",
    "    - 类：抽象名词，代表的是一个集合，共性的事物\n",
    "    - 对象：具体的事物，单个个体，类的一个实例\n",
    "    - 两者关系\n",
    "        - 一个是一大类事物，一个是其中的一个具体个体\n",
    "    - 类应该由两个内容：属性（特征）和动作（成员方法即函数）\n",
    "    \n",
    "# 2.类的基本实现\n",
    "- 类的命名\n",
    "    - 遵守变量命名的规范\n",
    "    - 大驼峰（由一个或者多个单词构成，每个单词首字母大写，单词跟单词直接相连）\n",
    "    - 尽量避开跟系统命名相似的命名\n",
    "- 你如何声明一个类\n",
    "    - 必须用class关键字\n",
    "    - 类由属性和方法构成，其他不允许出现\n",
    "    - 成员属性定义可以直接使用变量赋值，如果没有值，可以使用None\n",
    "- 案例："
   ]
  },
  {
   "cell_type": "code",
   "execution_count": 5,
   "metadata": {},
   "outputs": [
    {
     "name": "stdout",
     "output_type": "stream",
     "text": [
      "None\n",
      "do homework\n"
     ]
    }
   ],
   "source": [
    "# 定义一个学生类\n",
    "class Student():\n",
    "    pass\n",
    "# 定义一个对象\n",
    "mingyue = Student()\n",
    "\n",
    "# 给类定义属性和方法\n",
    "class PythonStudent():\n",
    "    name = None\n",
    "    age = 18\n",
    "    course = \"Python\"\n",
    "    \n",
    "    # 方法默认由self参数，要加上\n",
    "    def doHomework(self):\n",
    "        print(\"do homework\")\n",
    "        \n",
    "        # 推荐在函数末尾进行返回return\n",
    "        return None\n",
    "# 实例化\n",
    "a = PythonStudent() \n",
    "# 属性直接用.attr,方法直接用.way()\n",
    "print(a.name)\n",
    "a.doHomework()"
   ]
  },
  {
   "cell_type": "markdown",
   "metadata": {},
   "source": [
    "# 3.anaconda基本使用\n",
    "- anaconda主要是一个虚拟环境管理器\n",
    "- 还是一个安装包管理器\n",
    "- conda list： 显示anaconda安装的包\n",
    "- conda env list:显示anaconda的虚拟环境列表\n",
    "- conda create -n xxx python=3.6: 创建python版本为3.6的虚拟环境，名称为xxx\n",
    "- xxx也就是虚拟环境的名称，也可以当做使用该虚拟环境的项目"
   ]
  }
 ],
 "metadata": {
  "kernelspec": {
   "display_name": "Python 3",
   "language": "python",
   "name": "python3"
  },
  "language_info": {
   "codemirror_mode": {
    "name": "ipython",
    "version": 3
   },
   "file_extension": ".py",
   "mimetype": "text/x-python",
   "name": "python",
   "nbconvert_exporter": "python",
   "pygments_lexer": "ipython3",
   "version": "3.6.3"
  }
 },
 "nbformat": 4,
 "nbformat_minor": 2
}
